{
 "cells": [
  {
   "cell_type": "code",
   "execution_count": null,
   "metadata": {},
   "outputs": [],
   "source": [
    "import pathlib\n",
    "import os\n",
    "from shutil import copyfile\n",
    "bdd_folder_abs_path = 'C:/Users/lsd92/Codes/capstone/bdd100k/bdd100k'\n",
    "output_abs_path = 'C:/Users/lsd92/Codes/capstone/bdd100k_bus'\n",
    "bdd_images_path = bdd_folder_abs_path + '/images'\n",
    "bdd_labels_path = bdd_folder_abs_path + '/labels'\n",
    "output_images_path = output_abs_path + '/images'\n",
    "output_labels_path = output_abs_path + '/labels'\n",
    "#3 for bus\n",
    "#4 for truck\n",
    "target_object_classes = [\"3\"]\n",
    "\n",
    "# Minimum target size\n",
    "target_size = 0.05 # at least 5% of the picture\n",
    "# create output folder\n",
    "pathlib.Path(output_images_path + '/trains').mkdir(parents=True, exist_ok=True) \n",
    "pathlib.Path(output_images_path + '/valids').mkdir(parents=True, exist_ok=True) \n",
    "pathlib.Path(output_labels_path + '/trains').mkdir(parents=True, exist_ok=True) \n",
    "pathlib.Path(output_labels_path + '/valids').mkdir(parents=True, exist_ok=True) \n",
    "\n",
    "\n",
    "#List all the labels folder\n",
    "for folder_name in os.scandir(bdd_labels_path):\n",
    "    print(folder_name)\n"
   ]
  },
  {
   "cell_type": "code",
   "execution_count": null,
   "metadata": {},
   "outputs": [],
   "source": [
    "#loop folders\n",
    "total_count = 0\n",
    "for folder_name in [\"trains\", \"valids\"]:\n",
    "    folder_path = os.path.join(bdd_labels_path, folder_name)\n",
    "    print('Start extract images from folder ' + folder_name)\n",
    "    # loop files\n",
    "    for file_name in os.scandir(folder_path):\n",
    "        file_path = os.path.join(folder_path, file_name.name)\n",
    "        # open files\n",
    "        #print(\"scanning file \" + file_name.name)\n",
    "        with open(file_path, 'r') as f:\n",
    "            lines = f.readlines()\n",
    "            for line in lines:\n",
    "                obj = line.strip().split(\" \")\n",
    "                classIndex = obj[0] \n",
    "                width = float(obj[3])\n",
    "                height = float(obj[4])\n",
    "                if classIndex in target_object_classes and width >= target_size and height >= target_size * 16 / 9:\n",
    "                    total_count += 1\n",
    "                    # copy the picture and labels to new folder\n",
    "                    # label\n",
    "                    output_label_file_path = os.path.join(output_labels_path, folder_name , file_name.name)\n",
    "                    # print(file_path)\n",
    "                    # print(output_label_file_path)\n",
    "                    copyfile(file_path, output_label_file_path)\n",
    "                    # image\n",
    "                    image_name = file_name.name.replace('.txt', '.jpg')\n",
    "                    output_image_file_path = os.path.join(output_images_path, folder_name , image_name)\n",
    "                    input_image_file_path = os.path.join(bdd_images_path, folder_name , image_name)\n",
    "                    # print(input_image_file_path)\n",
    "                    print(\"Extracting iamge to:\")\n",
    "                    print(output_image_file_path)\n",
    "                    copyfile(input_image_file_path, output_image_file_path)\n",
    "                    # stop checking\n",
    "                    break\n",
    "    print('End extract images from folder ' + folder_name)\n",
    "print('Extract total: ' + str(total_count))\n",
    "\n",
    "        "
   ]
  },
  {
   "cell_type": "code",
   "execution_count": null,
   "metadata": {},
   "outputs": [],
   "source": []
  },
  {
   "cell_type": "code",
   "execution_count": null,
   "metadata": {},
   "outputs": [],
   "source": []
  }
 ],
 "metadata": {
  "interpreter": {
   "hash": "0b41d3a44ad31b6438ccd181b632cd3602b03633f600591b16a09c345fe25a42"
  },
  "kernelspec": {
   "display_name": "Python 3.9.7 64-bit ('curb': conda)",
   "name": "python3"
  },
  "language_info": {
   "codemirror_mode": {
    "name": "ipython",
    "version": 3
   },
   "file_extension": ".py",
   "mimetype": "text/x-python",
   "name": "python",
   "nbconvert_exporter": "python",
   "pygments_lexer": "ipython3",
   "version": "3.9.7"
  },
  "orig_nbformat": 4
 },
 "nbformat": 4,
 "nbformat_minor": 2
}
