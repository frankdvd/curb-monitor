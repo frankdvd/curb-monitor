{
 "cells": [
  {
   "cell_type": "code",
   "execution_count": 12,
   "metadata": {},
   "outputs": [
    {
     "name": "stdout",
     "output_type": "stream",
     "text": [
      "<DirEntry '.DS_Store'>\n",
      "<DirEntry 'train_day'>\n",
      "<DirEntry 'train_night'>\n",
      "<DirEntry 'val_day'>\n",
      "<DirEntry 'val_night'>\n"
     ]
    }
   ],
   "source": [
    "import pathlib\n",
    "import os\n",
    "from shutil import copyfile\n",
    "bdd_folder_abs_path = '/Users/frank/code/BDD100K/bdd100k/bdd100k'\n",
    "output_abs_path = '/Users/frank/code/BDD100K_truck_bus'\n",
    "bdd_images_path = bdd_folder_abs_path + '/images'\n",
    "bdd_labels_path = bdd_folder_abs_path + '/labels'\n",
    "output_images_path = output_abs_path + '/images'\n",
    "output_labels_path = output_abs_path + '/labels'\n",
    "target_object_classes = [\"3\", \"4\"]\n",
    "# create output folder\n",
    "pathlib.Path(output_images_path + '/trains').mkdir(parents=True, exist_ok=True) \n",
    "pathlib.Path(output_images_path + '/valids').mkdir(parents=True, exist_ok=True) \n",
    "pathlib.Path(output_labels_path + '/trains').mkdir(parents=True, exist_ok=True) \n",
    "pathlib.Path(output_labels_path + '/valids').mkdir(parents=True, exist_ok=True) \n",
    "\n",
    "\n",
    "#List all the labels folder\n",
    "for folder_name in os.scandir(bdd_labels_path):\n",
    "    print(folder_name)\n"
   ]
  },
  {
   "cell_type": "code",
   "execution_count": 13,
   "metadata": {},
   "outputs": [
    {
     "name": "stdout",
     "output_type": "stream",
     "text": [
      "Start extract images from folder .DS_Store\n"
     ]
    },
    {
     "ename": "NotADirectoryError",
     "evalue": "[Errno 20] Not a directory: '/Users/frank/code/BDD100K/bdd100k/bdd100k/labels/.DS_Store'",
     "output_type": "error",
     "traceback": [
      "\u001b[0;31m---------------------------------------------------------------------------\u001b[0m",
      "\u001b[0;31mNotADirectoryError\u001b[0m                        Traceback (most recent call last)",
      "\u001b[0;32m/var/folders/pl/svz31jj929zbychy5h2ytpy40000gn/T/ipykernel_51085/2365719275.py\u001b[0m in \u001b[0;36m<module>\u001b[0;34m\u001b[0m\n\u001b[1;32m     10\u001b[0m         \u001b[0moutput_subfolder_name\u001b[0m \u001b[0;34m=\u001b[0m \u001b[0;34m\"val\"\u001b[0m\u001b[0;34m\u001b[0m\u001b[0;34m\u001b[0m\u001b[0m\n\u001b[1;32m     11\u001b[0m     \u001b[0;31m# loop files\u001b[0m\u001b[0;34m\u001b[0m\u001b[0;34m\u001b[0m\u001b[0m\n\u001b[0;32m---> 12\u001b[0;31m     \u001b[0;32mfor\u001b[0m \u001b[0mfile_name\u001b[0m \u001b[0;32min\u001b[0m \u001b[0mos\u001b[0m\u001b[0;34m.\u001b[0m\u001b[0mscandir\u001b[0m\u001b[0;34m(\u001b[0m\u001b[0mfolder_path\u001b[0m\u001b[0;34m)\u001b[0m\u001b[0;34m:\u001b[0m\u001b[0;34m\u001b[0m\u001b[0;34m\u001b[0m\u001b[0m\n\u001b[0m\u001b[1;32m     13\u001b[0m         \u001b[0mfile_path\u001b[0m \u001b[0;34m=\u001b[0m \u001b[0mos\u001b[0m\u001b[0;34m.\u001b[0m\u001b[0mpath\u001b[0m\u001b[0;34m.\u001b[0m\u001b[0mjoin\u001b[0m\u001b[0;34m(\u001b[0m\u001b[0mfolder_path\u001b[0m\u001b[0;34m,\u001b[0m \u001b[0mfile_name\u001b[0m\u001b[0;34m.\u001b[0m\u001b[0mname\u001b[0m\u001b[0;34m)\u001b[0m\u001b[0;34m\u001b[0m\u001b[0;34m\u001b[0m\u001b[0m\n\u001b[1;32m     14\u001b[0m         \u001b[0;31m# open files\u001b[0m\u001b[0;34m\u001b[0m\u001b[0;34m\u001b[0m\u001b[0m\n",
      "\u001b[0;31mNotADirectoryError\u001b[0m: [Errno 20] Not a directory: '/Users/frank/code/BDD100K/bdd100k/bdd100k/labels/.DS_Store'"
     ]
    }
   ],
   "source": [
    "#loop folders\n",
    "total_count = 0\n",
    "for folder_name in os.scandir(bdd_labels_path):\n",
    "    folder_path = os.path.join(bdd_labels_path, folder_name.name)\n",
    "    print('Start extract images from folder ' + folder_name.name)\n",
    "    output_subfolder_name = \"\"\n",
    "    if \"train\" in folder_name.name:\n",
    "        output_subfolder_name = \"train\"\n",
    "    else:\n",
    "        output_subfolder_name = \"val\"\n",
    "    # loop files\n",
    "    for file_name in os.scandir(folder_path):\n",
    "        file_path = os.path.join(folder_path, file_name.name)\n",
    "        # open files\n",
    "        #print(\"scanning file \" + file_name.name)\n",
    "        with open(file_path, 'r') as f:\n",
    "            lines = f.readlines()\n",
    "            for line in lines:\n",
    "                classIndex = line.strip().split(\" \")[0] \n",
    "\n",
    "                if classIndex != \"0\":\n",
    "                    print(\"HI\")\n",
    "                if classIndex in target_object_classes:\n",
    "                    total_count += 1\n",
    "                    # copy the picture and labels to new folder\n",
    "                    # label\n",
    "                    output_label_file_path = os.path.join(output_labels_path, output_subfolder_name , file_name.name)\n",
    "                    # print(file_path)\n",
    "                    # print(output_label_file_path)\n",
    "                    copyfile(file_path, output_label_file_path)\n",
    "                    # image\n",
    "                    image_name = file_name.name.replace('.txt', '.jpg')\n",
    "                    output_image_file_path = os.path.join(output_images_path, output_subfolder_name , image_name)\n",
    "                    input_image_file_path = os.path.join(bdd_images_path, folder_name.name , image_name)\n",
    "                    # print(input_image_file_path)\n",
    "                    print(\"Extracting iamge to:\")\n",
    "                    print(output_image_file_path)\n",
    "                    copyfile(input_image_file_path, output_image_file_path)\n",
    "                    # stop checking\n",
    "                    break\n",
    "    print('End extract images from folder ' + folder_name.name)\n",
    "print('Extract total: ' + str(total_count))\n",
    "\n",
    "        "
   ]
  },
  {
   "cell_type": "code",
   "execution_count": null,
   "metadata": {},
   "outputs": [],
   "source": []
  }
 ],
 "metadata": {
  "interpreter": {
   "hash": "79d7596f67dec162d3e947b272ecefa37a7c23a42d4d50eb18711351adc67929"
  },
  "kernelspec": {
   "display_name": "Python 3.9.7 64-bit ('yolov5': conda)",
   "name": "python3"
  },
  "language_info": {
   "codemirror_mode": {
    "name": "ipython",
    "version": 3
   },
   "file_extension": ".py",
   "mimetype": "text/x-python",
   "name": "python",
   "nbconvert_exporter": "python",
   "pygments_lexer": "ipython3",
   "version": "3.9.7"
  },
  "orig_nbformat": 4
 },
 "nbformat": 4,
 "nbformat_minor": 2
}
