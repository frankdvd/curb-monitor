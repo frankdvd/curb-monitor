{
 "cells": [
  {
   "cell_type": "code",
   "execution_count": 3,
   "id": "797be003",
   "metadata": {},
   "outputs": [
    {
     "data": {
      "text/plain": [
       "(2691, 10)"
      ]
     },
     "execution_count": 3,
     "metadata": {},
     "output_type": "execute_result"
    }
   ],
   "source": [
    "import pandas as pd\n",
    "import seaborn as sns\n",
    "\n",
    "speeds = pd.read_csv('segment_speeds.csv')\n",
    "speeds2 = pd.read_csv('segment_speeds_thru_april.csv')\n",
    "\n",
    "speeds.shape"
   ]
  },
  {
   "cell_type": "code",
   "execution_count": 4,
   "id": "b1b70919",
   "metadata": {},
   "outputs": [
    {
     "data": {
      "text/html": [
       "<div>\n",
       "<style scoped>\n",
       "    .dataframe tbody tr th:only-of-type {\n",
       "        vertical-align: middle;\n",
       "    }\n",
       "\n",
       "    .dataframe tbody tr th {\n",
       "        vertical-align: top;\n",
       "    }\n",
       "\n",
       "    .dataframe thead th {\n",
       "        text-align: right;\n",
       "    }\n",
       "</style>\n",
       "<table border=\"1\" class=\"dataframe\">\n",
       "  <thead>\n",
       "    <tr style=\"text-align: right;\">\n",
       "      <th></th>\n",
       "      <th>Unnamed: 0</th>\n",
       "      <th>segment</th>\n",
       "      <th>speed</th>\n",
       "      <th>detection</th>\n",
       "      <th>obj_class</th>\n",
       "      <th>detection_ts</th>\n",
       "      <th>start_ts</th>\n",
       "      <th>end_ts</th>\n",
       "      <th>start_filename</th>\n",
       "      <th>end_filename</th>\n",
       "    </tr>\n",
       "  </thead>\n",
       "  <tbody>\n",
       "    <tr>\n",
       "      <th>0</th>\n",
       "      <td>0</td>\n",
       "      <td>College Ave</td>\n",
       "      <td>14.4</td>\n",
       "      <td>True</td>\n",
       "      <td>fedex_truck</td>\n",
       "      <td>2021-10-04 14:17:12</td>\n",
       "      <td>2021-10-04 14:16:58</td>\n",
       "      <td>2021-10-04 14:17:33</td>\n",
       "      <td>GRMN_Bancroft_1.MP4</td>\n",
       "      <td>GRMN_Bancroft_1.MP4</td>\n",
       "    </tr>\n",
       "    <tr>\n",
       "      <th>1</th>\n",
       "      <td>1</td>\n",
       "      <td>College Ave</td>\n",
       "      <td>14.4</td>\n",
       "      <td>True</td>\n",
       "      <td>fedex_truck</td>\n",
       "      <td>2021-10-04 14:17:13</td>\n",
       "      <td>2021-10-04 14:16:58</td>\n",
       "      <td>2021-10-04 14:17:33</td>\n",
       "      <td>GRMN_Bancroft_1.MP4</td>\n",
       "      <td>GRMN_Bancroft_1.MP4</td>\n",
       "    </tr>\n",
       "    <tr>\n",
       "      <th>2</th>\n",
       "      <td>2</td>\n",
       "      <td>College Ave</td>\n",
       "      <td>14.4</td>\n",
       "      <td>True</td>\n",
       "      <td>fedex_truck</td>\n",
       "      <td>2021-10-04 14:17:14</td>\n",
       "      <td>2021-10-04 14:16:58</td>\n",
       "      <td>2021-10-04 14:17:33</td>\n",
       "      <td>GRMN_Bancroft_1.MP4</td>\n",
       "      <td>GRMN_Bancroft_1.MP4</td>\n",
       "    </tr>\n",
       "    <tr>\n",
       "      <th>3</th>\n",
       "      <td>3</td>\n",
       "      <td>College Ave</td>\n",
       "      <td>14.4</td>\n",
       "      <td>True</td>\n",
       "      <td>amazon_truck</td>\n",
       "      <td>2021-10-04 14:17:23</td>\n",
       "      <td>2021-10-04 14:16:58</td>\n",
       "      <td>2021-10-04 14:17:33</td>\n",
       "      <td>GRMN_Bancroft_1.MP4</td>\n",
       "      <td>GRMN_Bancroft_1.MP4</td>\n",
       "    </tr>\n",
       "    <tr>\n",
       "      <th>4</th>\n",
       "      <td>4</td>\n",
       "      <td>College Ave</td>\n",
       "      <td>14.4</td>\n",
       "      <td>True</td>\n",
       "      <td>fedex_truck</td>\n",
       "      <td>2021-10-04 14:17:25</td>\n",
       "      <td>2021-10-04 14:16:58</td>\n",
       "      <td>2021-10-04 14:17:33</td>\n",
       "      <td>GRMN_Bancroft_1.MP4</td>\n",
       "      <td>GRMN_Bancroft_1.MP4</td>\n",
       "    </tr>\n",
       "  </tbody>\n",
       "</table>\n",
       "</div>"
      ],
      "text/plain": [
       "   Unnamed: 0      segment  speed  detection     obj_class  \\\n",
       "0           0  College Ave   14.4       True   fedex_truck   \n",
       "1           1  College Ave   14.4       True   fedex_truck   \n",
       "2           2  College Ave   14.4       True   fedex_truck   \n",
       "3           3  College Ave   14.4       True  amazon_truck   \n",
       "4           4  College Ave   14.4       True   fedex_truck   \n",
       "\n",
       "          detection_ts             start_ts               end_ts  \\\n",
       "0  2021-10-04 14:17:12  2021-10-04 14:16:58  2021-10-04 14:17:33   \n",
       "1  2021-10-04 14:17:13  2021-10-04 14:16:58  2021-10-04 14:17:33   \n",
       "2  2021-10-04 14:17:14  2021-10-04 14:16:58  2021-10-04 14:17:33   \n",
       "3  2021-10-04 14:17:23  2021-10-04 14:16:58  2021-10-04 14:17:33   \n",
       "4  2021-10-04 14:17:25  2021-10-04 14:16:58  2021-10-04 14:17:33   \n",
       "\n",
       "        start_filename         end_filename  \n",
       "0  GRMN_Bancroft_1.MP4  GRMN_Bancroft_1.MP4  \n",
       "1  GRMN_Bancroft_1.MP4  GRMN_Bancroft_1.MP4  \n",
       "2  GRMN_Bancroft_1.MP4  GRMN_Bancroft_1.MP4  \n",
       "3  GRMN_Bancroft_1.MP4  GRMN_Bancroft_1.MP4  \n",
       "4  GRMN_Bancroft_1.MP4  GRMN_Bancroft_1.MP4  "
      ]
     },
     "execution_count": 4,
     "metadata": {},
     "output_type": "execute_result"
    }
   ],
   "source": [
    "speeds['obj_class'] = speeds['obj_class'].fillna(\"no object\")\n",
    "speeds.head()\n",
    "speeds2['obj_class'] = speeds2['obj_class'].fillna(\"no object\")\n",
    "speeds.head()\n",
    "# data = [['fedex_truck',  265], ['ups_truck', 165], ['amazon_truck', 91]]\n",
    "# df = pd.DataFrame(data, columns = ['vehicle_type', 'number of vehicle occurances'])\n",
    "\n",
    "# ax = df.set_index('vehicle_type').plot.bar()\n",
    "# ax.set(xlabel=\"Vehicle Type\", ylabel=\"Number of Vehicle Occurances\") \n",
    "# ax.set_title(\"Number of Vehicle Occurances on Bus Lane\")\n",
    "# df.head()\n"
   ]
  },
  {
   "cell_type": "code",
   "execution_count": 41,
   "id": "d9b16fbf",
   "metadata": {},
   "outputs": [
    {
     "data": {
      "text/html": [
       "<div>\n",
       "<style scoped>\n",
       "    .dataframe tbody tr th:only-of-type {\n",
       "        vertical-align: middle;\n",
       "    }\n",
       "\n",
       "    .dataframe tbody tr th {\n",
       "        vertical-align: top;\n",
       "    }\n",
       "\n",
       "    .dataframe thead th {\n",
       "        text-align: right;\n",
       "    }\n",
       "</style>\n",
       "<table border=\"1\" class=\"dataframe\">\n",
       "  <thead>\n",
       "    <tr style=\"text-align: right;\">\n",
       "      <th></th>\n",
       "      <th>segment</th>\n",
       "      <th>start_ts</th>\n",
       "      <th>end_ts</th>\n",
       "      <th>Unnamed: 0</th>\n",
       "      <th>speed</th>\n",
       "      <th>detection</th>\n",
       "      <th>obj_class</th>\n",
       "      <th>detection_ts</th>\n",
       "      <th>start_filename</th>\n",
       "      <th>end_filename</th>\n",
       "    </tr>\n",
       "  </thead>\n",
       "  <tbody>\n",
       "    <tr>\n",
       "      <th>0</th>\n",
       "      <td>Bus Stop</td>\n",
       "      <td>2021-10-04 15:22:36</td>\n",
       "      <td>2021-10-04 15:23:02</td>\n",
       "      <td>6</td>\n",
       "      <td>20.769231</td>\n",
       "      <td>True</td>\n",
       "      <td>bus</td>\n",
       "      <td>10/4/2021 15:23</td>\n",
       "      <td>Bancroft_Vids_3681.mp4</td>\n",
       "      <td>Bancroft_Vids_3682.mp4</td>\n",
       "    </tr>\n",
       "    <tr>\n",
       "      <th>1</th>\n",
       "      <td>Bus Stop</td>\n",
       "      <td>2021-10-04 15:51:38</td>\n",
       "      <td>2021-10-04 15:52:21</td>\n",
       "      <td>10</td>\n",
       "      <td>12.558140</td>\n",
       "      <td>False</td>\n",
       "      <td>no object</td>\n",
       "      <td>None</td>\n",
       "      <td>Bancroft_Vids_3686.mp4</td>\n",
       "      <td>Bancroft_Vids_3687.mp4</td>\n",
       "    </tr>\n",
       "    <tr>\n",
       "      <th>2</th>\n",
       "      <td>Bus Stop</td>\n",
       "      <td>2021-10-04 18:19:15</td>\n",
       "      <td>2021-10-04 18:19:44</td>\n",
       "      <td>20</td>\n",
       "      <td>18.620690</td>\n",
       "      <td>False</td>\n",
       "      <td>no object</td>\n",
       "      <td>None</td>\n",
       "      <td>Bancroft_Vids_3717.mp4</td>\n",
       "      <td>Bancroft_Vids_3717.mp4</td>\n",
       "    </tr>\n",
       "    <tr>\n",
       "      <th>3</th>\n",
       "      <td>Bus Stop</td>\n",
       "      <td>2021-10-04 19:48:15</td>\n",
       "      <td>2021-10-04 19:48:43</td>\n",
       "      <td>28</td>\n",
       "      <td>19.285714</td>\n",
       "      <td>False</td>\n",
       "      <td>no object</td>\n",
       "      <td>None</td>\n",
       "      <td>Bancroft_Vids_3740.mp4</td>\n",
       "      <td>Bancroft_Vids_3741.mp4</td>\n",
       "    </tr>\n",
       "    <tr>\n",
       "      <th>4</th>\n",
       "      <td>Bus Stop</td>\n",
       "      <td>2021-10-04 20:47:01</td>\n",
       "      <td>2021-10-04 20:47:37</td>\n",
       "      <td>41</td>\n",
       "      <td>15.000000</td>\n",
       "      <td>False</td>\n",
       "      <td>no object</td>\n",
       "      <td>None</td>\n",
       "      <td>Bancroft_Vids_3757.mp4</td>\n",
       "      <td>Bancroft_Vids_3758.mp4</td>\n",
       "    </tr>\n",
       "  </tbody>\n",
       "</table>\n",
       "</div>"
      ],
      "text/plain": [
       "    segment             start_ts               end_ts  Unnamed: 0      speed  \\\n",
       "0  Bus Stop  2021-10-04 15:22:36  2021-10-04 15:23:02           6  20.769231   \n",
       "1  Bus Stop  2021-10-04 15:51:38  2021-10-04 15:52:21          10  12.558140   \n",
       "2  Bus Stop  2021-10-04 18:19:15  2021-10-04 18:19:44          20  18.620690   \n",
       "3  Bus Stop  2021-10-04 19:48:15  2021-10-04 19:48:43          28  19.285714   \n",
       "4  Bus Stop  2021-10-04 20:47:01  2021-10-04 20:47:37          41  15.000000   \n",
       "\n",
       "   detection  obj_class     detection_ts          start_filename  \\\n",
       "0       True        bus  10/4/2021 15:23  Bancroft_Vids_3681.mp4   \n",
       "1      False  no object             None  Bancroft_Vids_3686.mp4   \n",
       "2      False  no object             None  Bancroft_Vids_3717.mp4   \n",
       "3      False  no object             None  Bancroft_Vids_3740.mp4   \n",
       "4      False  no object             None  Bancroft_Vids_3757.mp4   \n",
       "\n",
       "             end_filename  \n",
       "0  Bancroft_Vids_3682.mp4  \n",
       "1  Bancroft_Vids_3687.mp4  \n",
       "2  Bancroft_Vids_3717.mp4  \n",
       "3  Bancroft_Vids_3741.mp4  \n",
       "4  Bancroft_Vids_3758.mp4  "
      ]
     },
     "execution_count": 41,
     "metadata": {},
     "output_type": "execute_result"
    }
   ],
   "source": [
    "grouped = speeds2.groupby(['segment', 'start_ts', \"end_ts\"]).first().reset_index()\n",
    "grouped.head()\n"
   ]
  },
  {
   "cell_type": "code",
   "execution_count": 42,
   "id": "64e52d5a",
   "metadata": {},
   "outputs": [
    {
     "data": {
      "text/plain": [
       "12.724258510180736"
      ]
     },
     "execution_count": 42,
     "metadata": {},
     "output_type": "execute_result"
    }
   ],
   "source": [
    "grouped[grouped['detection'] == True]['speed'].mean()"
   ]
  },
  {
   "cell_type": "code",
   "execution_count": 43,
   "id": "2d45275f",
   "metadata": {},
   "outputs": [
    {
     "data": {
      "text/plain": [
       "13.685346171617379"
      ]
     },
     "execution_count": 43,
     "metadata": {},
     "output_type": "execute_result"
    }
   ],
   "source": [
    "grouped[grouped['detection'] == False]['speed'].mean()"
   ]
  },
  {
   "cell_type": "code",
   "execution_count": 44,
   "id": "efffc845",
   "metadata": {},
   "outputs": [
    {
     "data": {
      "text/plain": [
       "10.694612316798759"
      ]
     },
     "execution_count": 44,
     "metadata": {},
     "output_type": "execute_result"
    }
   ],
   "source": [
    "#College AVE with det\n",
    "grouped[(grouped['detection'] == True)  & (grouped['segment']=='College Ave')]['speed'].mean()"
   ]
  },
  {
   "cell_type": "code",
   "execution_count": 45,
   "id": "8cc5ed1b",
   "metadata": {},
   "outputs": [
    {
     "data": {
      "text/plain": [
       "12.031783184062968"
      ]
     },
     "execution_count": 45,
     "metadata": {},
     "output_type": "execute_result"
    }
   ],
   "source": [
    "#College AVE without det\n",
    "grouped[(grouped['detection'] == False)  & (grouped['segment']=='College Ave')]['speed'].mean()"
   ]
  },
  {
   "cell_type": "code",
   "execution_count": 46,
   "id": "a5fcee81",
   "metadata": {},
   "outputs": [
    {
     "data": {
      "text/plain": [
       "14.692829749512907"
      ]
     },
     "execution_count": 46,
     "metadata": {},
     "output_type": "execute_result"
    }
   ],
   "source": [
    "#Shattuck with det\n",
    "grouped[(grouped['detection'] == True)  & (grouped['segment']=='Shattuck')]['speed'].mean()"
   ]
  },
  {
   "cell_type": "code",
   "execution_count": 47,
   "id": "1f05425b",
   "metadata": {},
   "outputs": [
    {
     "data": {
      "text/plain": [
       "14.751689986536515"
      ]
     },
     "execution_count": 47,
     "metadata": {},
     "output_type": "execute_result"
    }
   ],
   "source": [
    "#Shattuck without det\n",
    "grouped[(grouped['detection'] == False)  & (grouped['segment']=='Shattuck')]['speed'].mean()"
   ]
  },
  {
   "cell_type": "code",
   "execution_count": 48,
   "id": "96cf789b",
   "metadata": {},
   "outputs": [
    {
     "data": {
      "text/plain": [
       "14.453016225754453"
      ]
     },
     "execution_count": 48,
     "metadata": {},
     "output_type": "execute_result"
    }
   ],
   "source": [
    "#Bus stop with det\n",
    "grouped[(grouped['detection'] == True)  & (grouped['segment']=='Bus Stop')]['speed'].mean()"
   ]
  },
  {
   "cell_type": "code",
   "execution_count": 49,
   "id": "1fd8b8a9",
   "metadata": {},
   "outputs": [
    {
     "data": {
      "text/plain": [
       "17.542287149135525"
      ]
     },
     "execution_count": 49,
     "metadata": {},
     "output_type": "execute_result"
    }
   ],
   "source": [
    "#Bus stop without det\n",
    "grouped[(grouped['detection'] == False)  & (grouped['segment']=='Bus Stop')]['speed'].mean()"
   ]
  },
  {
   "cell_type": "code",
   "execution_count": 50,
   "id": "4d6dd45a",
   "metadata": {},
   "outputs": [
    {
     "data": {
      "text/plain": [
       "College Ave    421\n",
       "Shattuck       348\n",
       "Bus Stop        98\n",
       "Name: segment, dtype: int64"
      ]
     },
     "execution_count": 50,
     "metadata": {},
     "output_type": "execute_result"
    }
   ],
   "source": [
    "grouped[(grouped['detection'] == True)]['segment'].value_counts()"
   ]
  },
  {
   "cell_type": "code",
   "execution_count": 51,
   "id": "90b8d504",
   "metadata": {},
   "outputs": [],
   "source": [
    "from datetime import datetime\n",
    "date = pd.to_datetime(grouped['detection_ts']).dt.tz_localize('UTC').dt.tz_convert('US/Pacific')\n",
    "date2 = pd.to_datetime(grouped['start_ts']).dt.tz_localize('UTC').dt.tz_convert('US/Pacific')\n",
    "#df['year'] = date.dt.year\n",
    "#df['month'] = date.dt.month\n",
    "#df['day'] = date.dt.day\n",
    "#df['weekday'] = date.dt.weekday + 1\n",
    "grouped['hour'] = date.dt.hour\n",
    "grouped['segment_hour'] = date2.dt.hour\n",
    "\n",
    "#df['date'] = date.dt.date"
   ]
  },
  {
   "cell_type": "code",
   "execution_count": 52,
   "id": "a5c67760",
   "metadata": {},
   "outputs": [
    {
     "data": {
      "text/html": [
       "<div>\n",
       "<style scoped>\n",
       "    .dataframe tbody tr th:only-of-type {\n",
       "        vertical-align: middle;\n",
       "    }\n",
       "\n",
       "    .dataframe tbody tr th {\n",
       "        vertical-align: top;\n",
       "    }\n",
       "\n",
       "    .dataframe thead th {\n",
       "        text-align: right;\n",
       "    }\n",
       "</style>\n",
       "<table border=\"1\" class=\"dataframe\">\n",
       "  <thead>\n",
       "    <tr style=\"text-align: right;\">\n",
       "      <th></th>\n",
       "      <th>segment</th>\n",
       "      <th>start_ts</th>\n",
       "      <th>end_ts</th>\n",
       "      <th>Unnamed: 0</th>\n",
       "      <th>speed</th>\n",
       "      <th>detection</th>\n",
       "      <th>obj_class</th>\n",
       "      <th>detection_ts</th>\n",
       "      <th>start_filename</th>\n",
       "      <th>end_filename</th>\n",
       "      <th>hour</th>\n",
       "      <th>segment_hour</th>\n",
       "    </tr>\n",
       "  </thead>\n",
       "  <tbody>\n",
       "    <tr>\n",
       "      <th>0</th>\n",
       "      <td>Bus Stop</td>\n",
       "      <td>2021-10-04 15:22:36</td>\n",
       "      <td>2021-10-04 15:23:02</td>\n",
       "      <td>6</td>\n",
       "      <td>20.769231</td>\n",
       "      <td>True</td>\n",
       "      <td>bus</td>\n",
       "      <td>10/4/2021 15:23</td>\n",
       "      <td>Bancroft_Vids_3681.mp4</td>\n",
       "      <td>Bancroft_Vids_3682.mp4</td>\n",
       "      <td>8.0</td>\n",
       "      <td>8</td>\n",
       "    </tr>\n",
       "    <tr>\n",
       "      <th>1</th>\n",
       "      <td>Bus Stop</td>\n",
       "      <td>2021-10-04 15:51:38</td>\n",
       "      <td>2021-10-04 15:52:21</td>\n",
       "      <td>10</td>\n",
       "      <td>12.558140</td>\n",
       "      <td>False</td>\n",
       "      <td>no object</td>\n",
       "      <td>None</td>\n",
       "      <td>Bancroft_Vids_3686.mp4</td>\n",
       "      <td>Bancroft_Vids_3687.mp4</td>\n",
       "      <td>NaN</td>\n",
       "      <td>8</td>\n",
       "    </tr>\n",
       "    <tr>\n",
       "      <th>2</th>\n",
       "      <td>Bus Stop</td>\n",
       "      <td>2021-10-04 18:19:15</td>\n",
       "      <td>2021-10-04 18:19:44</td>\n",
       "      <td>20</td>\n",
       "      <td>18.620690</td>\n",
       "      <td>False</td>\n",
       "      <td>no object</td>\n",
       "      <td>None</td>\n",
       "      <td>Bancroft_Vids_3717.mp4</td>\n",
       "      <td>Bancroft_Vids_3717.mp4</td>\n",
       "      <td>NaN</td>\n",
       "      <td>11</td>\n",
       "    </tr>\n",
       "    <tr>\n",
       "      <th>3</th>\n",
       "      <td>Bus Stop</td>\n",
       "      <td>2021-10-04 19:48:15</td>\n",
       "      <td>2021-10-04 19:48:43</td>\n",
       "      <td>28</td>\n",
       "      <td>19.285714</td>\n",
       "      <td>False</td>\n",
       "      <td>no object</td>\n",
       "      <td>None</td>\n",
       "      <td>Bancroft_Vids_3740.mp4</td>\n",
       "      <td>Bancroft_Vids_3741.mp4</td>\n",
       "      <td>NaN</td>\n",
       "      <td>12</td>\n",
       "    </tr>\n",
       "    <tr>\n",
       "      <th>4</th>\n",
       "      <td>Bus Stop</td>\n",
       "      <td>2021-10-04 20:47:01</td>\n",
       "      <td>2021-10-04 20:47:37</td>\n",
       "      <td>41</td>\n",
       "      <td>15.000000</td>\n",
       "      <td>False</td>\n",
       "      <td>no object</td>\n",
       "      <td>None</td>\n",
       "      <td>Bancroft_Vids_3757.mp4</td>\n",
       "      <td>Bancroft_Vids_3758.mp4</td>\n",
       "      <td>NaN</td>\n",
       "      <td>13</td>\n",
       "    </tr>\n",
       "  </tbody>\n",
       "</table>\n",
       "</div>"
      ],
      "text/plain": [
       "    segment             start_ts               end_ts  Unnamed: 0      speed  \\\n",
       "0  Bus Stop  2021-10-04 15:22:36  2021-10-04 15:23:02           6  20.769231   \n",
       "1  Bus Stop  2021-10-04 15:51:38  2021-10-04 15:52:21          10  12.558140   \n",
       "2  Bus Stop  2021-10-04 18:19:15  2021-10-04 18:19:44          20  18.620690   \n",
       "3  Bus Stop  2021-10-04 19:48:15  2021-10-04 19:48:43          28  19.285714   \n",
       "4  Bus Stop  2021-10-04 20:47:01  2021-10-04 20:47:37          41  15.000000   \n",
       "\n",
       "   detection  obj_class     detection_ts          start_filename  \\\n",
       "0       True        bus  10/4/2021 15:23  Bancroft_Vids_3681.mp4   \n",
       "1      False  no object             None  Bancroft_Vids_3686.mp4   \n",
       "2      False  no object             None  Bancroft_Vids_3717.mp4   \n",
       "3      False  no object             None  Bancroft_Vids_3740.mp4   \n",
       "4      False  no object             None  Bancroft_Vids_3757.mp4   \n",
       "\n",
       "             end_filename  hour  segment_hour  \n",
       "0  Bancroft_Vids_3682.mp4   8.0             8  \n",
       "1  Bancroft_Vids_3687.mp4   NaN             8  \n",
       "2  Bancroft_Vids_3717.mp4   NaN            11  \n",
       "3  Bancroft_Vids_3741.mp4   NaN            12  \n",
       "4  Bancroft_Vids_3758.mp4   NaN            13  "
      ]
     },
     "execution_count": 52,
     "metadata": {},
     "output_type": "execute_result"
    }
   ],
   "source": [
    "grouped.head()"
   ]
  },
  {
   "cell_type": "code",
   "execution_count": 53,
   "id": "c2021192",
   "metadata": {},
   "outputs": [
    {
     "name": "stderr",
     "output_type": "stream",
     "text": [
      "/Users/priya/opt/anaconda3/lib/python3.8/site-packages/seaborn/distributions.py:1657: FutureWarning: The `bw` parameter is deprecated in favor of `bw_method` and `bw_adjust`. Using 0.2 for `bw_method`, but please see the docs for the new parameters and update your code.\n",
      "  warnings.warn(msg, FutureWarning)\n"
     ]
    },
    {
     "data": {
      "text/plain": [
       "<AxesSubplot:xlabel='hour', ylabel='Density'>"
      ]
     },
     "execution_count": 53,
     "metadata": {},
     "output_type": "execute_result"
    },
    {
     "data": {
      "image/png": "[encoded data removed]",
      "text/plain": [
       "<Figure size 432x288 with 1 Axes>"
      ]
     },
     "metadata": {
      "needs_background": "light"
     },
     "output_type": "display_data"
    }
   ],
   "source": [
    "college_ave = grouped[(grouped['segment']=='College Ave') & (grouped['detection']==True)]\n",
    "sns.kdeplot(data = college_ave['hour'], bw=0.2, label='college_ave')"
   ]
  },
  {
   "cell_type": "code",
   "execution_count": 54,
   "id": "3986d6d5",
   "metadata": {},
   "outputs": [
    {
     "name": "stderr",
     "output_type": "stream",
     "text": [
      "/Users/priya/opt/anaconda3/lib/python3.8/site-packages/seaborn/distributions.py:1657: FutureWarning: The `bw` parameter is deprecated in favor of `bw_method` and `bw_adjust`. Using 0.2 for `bw_method`, but please see the docs for the new parameters and update your code.\n",
      "  warnings.warn(msg, FutureWarning)\n"
     ]
    },
    {
     "data": {
      "text/plain": [
       "<AxesSubplot:xlabel='hour', ylabel='Density'>"
      ]
     },
     "execution_count": 54,
     "metadata": {},
     "output_type": "execute_result"
    },
    {
     "data": {
      "image/png": "[encoded data removed]",
      "text/plain": [
       "<Figure size 432x288 with 1 Axes>"
      ]
     },
     "metadata": {
      "needs_background": "light"
     },
     "output_type": "display_data"
    }
   ],
   "source": [
    "stattuck = grouped[(grouped['segment']=='Shattuck') & (grouped['detection']==True)]\n",
    "sns.kdeplot(data = stattuck['hour'], bw=0.2, label='stattuck')"
   ]
  },
  {
   "cell_type": "code",
   "execution_count": 55,
   "id": "72f2266e",
   "metadata": {},
   "outputs": [
    {
     "name": "stderr",
     "output_type": "stream",
     "text": [
      "/Users/priya/opt/anaconda3/lib/python3.8/site-packages/seaborn/distributions.py:1657: FutureWarning: The `bw` parameter is deprecated in favor of `bw_method` and `bw_adjust`. Using 0.2 for `bw_method`, but please see the docs for the new parameters and update your code.\n",
      "  warnings.warn(msg, FutureWarning)\n"
     ]
    },
    {
     "data": {
      "text/plain": [
       "<AxesSubplot:xlabel='hour', ylabel='Density'>"
      ]
     },
     "execution_count": 55,
     "metadata": {},
     "output_type": "execute_result"
    },
    {
     "data": {
      "image/png": "[encoded data removed]",
      "text/plain": [
       "<Figure size 432x288 with 1 Axes>"
      ]
     },
     "metadata": {
      "needs_background": "light"
     },
     "output_type": "display_data"
    }
   ],
   "source": [
    "bus_stop = grouped[(grouped['segment']=='Bus Stop') & (grouped['detection']==True)]\n",
    "sns.kdeplot(data = bus_stop['hour'], bw=0.2, label='bus_stop')"
   ]
  },
  {
   "cell_type": "code",
   "execution_count": 56,
   "id": "23dfccac",
   "metadata": {},
   "outputs": [
    {
     "name": "stderr",
     "output_type": "stream",
     "text": [
      "/Users/priya/opt/anaconda3/lib/python3.8/site-packages/seaborn/distributions.py:1657: FutureWarning: The `bw` parameter is deprecated in favor of `bw_method` and `bw_adjust`. Using 0.2 for `bw_method`, but please see the docs for the new parameters and update your code.\n",
      "  warnings.warn(msg, FutureWarning)\n"
     ]
    },
    {
     "data": {
      "text/plain": [
       "<AxesSubplot:xlabel='speed', ylabel='Density'>"
      ]
     },
     "execution_count": 56,
     "metadata": {},
     "output_type": "execute_result"
    },
    {
     "data": {
      "image/png": "[encoded data removed]",
      "text/plain": [
       "<Figure size 432x288 with 1 Axes>"
      ]
     },
     "metadata": {
      "needs_background": "light"
     },
     "output_type": "display_data"
    }
   ],
   "source": [
    "#College AVE WITH detection\n",
    "sns.kdeplot(data = college_ave['speed'], bw=0.2, label='college_ave')"
   ]
  },
  {
   "cell_type": "code",
   "execution_count": 57,
   "id": "526c20c0",
   "metadata": {},
   "outputs": [
    {
     "name": "stderr",
     "output_type": "stream",
     "text": [
      "/Users/priya/opt/anaconda3/lib/python3.8/site-packages/seaborn/distributions.py:1657: FutureWarning: The `bw` parameter is deprecated in favor of `bw_method` and `bw_adjust`. Using 0.2 for `bw_method`, but please see the docs for the new parameters and update your code.\n",
      "  warnings.warn(msg, FutureWarning)\n"
     ]
    },
    {
     "data": {
      "text/plain": [
       "<AxesSubplot:xlabel='speed', ylabel='Density'>"
      ]
     },
     "execution_count": 57,
     "metadata": {},
     "output_type": "execute_result"
    },
    {
     "data": {
      "image/png": "[encoded data removed]",
      "text/plain": [
       "<Figure size 432x288 with 1 Axes>"
      ]
     },
     "metadata": {
      "needs_background": "light"
     },
     "output_type": "display_data"
    }
   ],
   "source": [
    "#College AVE without detection\n",
    "college_ave = grouped[(grouped['segment']=='College Ave') & (grouped['detection']==False)]\n",
    "sns.kdeplot(data = college_ave['speed'], bw=0.2, label='college_ave_no_detection')\n"
   ]
  },
  {
   "cell_type": "code",
   "execution_count": 58,
   "id": "b76e7c59",
   "metadata": {},
   "outputs": [
    {
     "data": {
      "text/html": [
       "<div>\n",
       "<style scoped>\n",
       "    .dataframe tbody tr th:only-of-type {\n",
       "        vertical-align: middle;\n",
       "    }\n",
       "\n",
       "    .dataframe tbody tr th {\n",
       "        vertical-align: top;\n",
       "    }\n",
       "\n",
       "    .dataframe thead th {\n",
       "        text-align: right;\n",
       "    }\n",
       "</style>\n",
       "<table border=\"1\" class=\"dataframe\">\n",
       "  <thead>\n",
       "    <tr style=\"text-align: right;\">\n",
       "      <th></th>\n",
       "      <th>segment</th>\n",
       "      <th>start_ts</th>\n",
       "      <th>end_ts</th>\n",
       "      <th>Unnamed: 0</th>\n",
       "      <th>speed</th>\n",
       "      <th>detection</th>\n",
       "      <th>obj_class</th>\n",
       "      <th>detection_ts</th>\n",
       "      <th>start_filename</th>\n",
       "      <th>end_filename</th>\n",
       "      <th>hour</th>\n",
       "      <th>segment_hour</th>\n",
       "    </tr>\n",
       "  </thead>\n",
       "  <tbody>\n",
       "    <tr>\n",
       "      <th>814</th>\n",
       "      <td>College Ave</td>\n",
       "      <td>2021-12-09 03:19:29</td>\n",
       "      <td>2021-12-09 03:20:56</td>\n",
       "      <td>1287</td>\n",
       "      <td>5.793103</td>\n",
       "      <td>True</td>\n",
       "      <td>bus</td>\n",
       "      <td>12/9/2021 3:20</td>\n",
       "      <td>Bancroft_Vids_7111.mp4</td>\n",
       "      <td>Bancroft_Vids_7112.mp4</td>\n",
       "      <td>19.0</td>\n",
       "      <td>19</td>\n",
       "    </tr>\n",
       "    <tr>\n",
       "      <th>375</th>\n",
       "      <td>College Ave</td>\n",
       "      <td>2021-10-05 01:54:25</td>\n",
       "      <td>2021-10-05 01:55:49</td>\n",
       "      <td>61</td>\n",
       "      <td>6.000000</td>\n",
       "      <td>True</td>\n",
       "      <td>bus</td>\n",
       "      <td>10/5/2021 1:55</td>\n",
       "      <td>Bancroft_Vids_3821.mp4</td>\n",
       "      <td>Bancroft_Vids_3823.mp4</td>\n",
       "      <td>18.0</td>\n",
       "      <td>18</td>\n",
       "    </tr>\n",
       "    <tr>\n",
       "      <th>6</th>\n",
       "      <td>Bus Stop</td>\n",
       "      <td>2021-10-05 01:24:38</td>\n",
       "      <td>2021-10-05 01:26:04</td>\n",
       "      <td>59</td>\n",
       "      <td>6.279070</td>\n",
       "      <td>True</td>\n",
       "      <td>bus</td>\n",
       "      <td>10/5/2021 1:25</td>\n",
       "      <td>Bancroft_Vids_3816.mp4</td>\n",
       "      <td>Bancroft_Vids_3817.mp4</td>\n",
       "      <td>18.0</td>\n",
       "      <td>18</td>\n",
       "    </tr>\n",
       "    <tr>\n",
       "      <th>929</th>\n",
       "      <td>College Ave</td>\n",
       "      <td>2021-12-16 02:54:28</td>\n",
       "      <td>2021-12-16 02:55:48</td>\n",
       "      <td>1549</td>\n",
       "      <td>6.300000</td>\n",
       "      <td>True</td>\n",
       "      <td>bus</td>\n",
       "      <td>12/16/2021 2:55</td>\n",
       "      <td>Bancroft_Vids_7976.mp4</td>\n",
       "      <td>Bancroft_Vids_7977.mp4</td>\n",
       "      <td>18.0</td>\n",
       "      <td>18</td>\n",
       "    </tr>\n",
       "    <tr>\n",
       "      <th>1313</th>\n",
       "      <td>College Ave</td>\n",
       "      <td>2022-02-18 02:23:46</td>\n",
       "      <td>2022-02-18 02:25:01</td>\n",
       "      <td>2552</td>\n",
       "      <td>6.720000</td>\n",
       "      <td>True</td>\n",
       "      <td>bus</td>\n",
       "      <td>2/18/2022 2:24</td>\n",
       "      <td>Bancroft_Vids_2597.mp4</td>\n",
       "      <td>Bancroft_Vids_2598.mp4</td>\n",
       "      <td>18.0</td>\n",
       "      <td>18</td>\n",
       "    </tr>\n",
       "    <tr>\n",
       "      <th>1438</th>\n",
       "      <td>College Ave</td>\n",
       "      <td>2022-03-08 02:21:58</td>\n",
       "      <td>2022-03-08 02:23:11</td>\n",
       "      <td>2847</td>\n",
       "      <td>6.904110</td>\n",
       "      <td>True</td>\n",
       "      <td>bus</td>\n",
       "      <td>3/8/2022 2:23</td>\n",
       "      <td>Bancroft_Vids_3588.mp4</td>\n",
       "      <td>Bancroft_Vids_3589.mp4</td>\n",
       "      <td>18.0</td>\n",
       "      <td>18</td>\n",
       "    </tr>\n",
       "    <tr>\n",
       "      <th>567</th>\n",
       "      <td>College Ave</td>\n",
       "      <td>2021-11-16 03:18:24</td>\n",
       "      <td>2021-11-16 03:19:31</td>\n",
       "      <td>602</td>\n",
       "      <td>7.522388</td>\n",
       "      <td>True</td>\n",
       "      <td>bus</td>\n",
       "      <td>11/16/2021 3:19</td>\n",
       "      <td>Bancroft_Vids_4807.mp4</td>\n",
       "      <td>Bancroft_Vids_4808.mp4</td>\n",
       "      <td>19.0</td>\n",
       "      <td>19</td>\n",
       "    </tr>\n",
       "    <tr>\n",
       "      <th>1045</th>\n",
       "      <td>College Ave</td>\n",
       "      <td>2022-01-25 02:21:53</td>\n",
       "      <td>2022-01-25 02:22:59</td>\n",
       "      <td>1816</td>\n",
       "      <td>7.636364</td>\n",
       "      <td>True</td>\n",
       "      <td>bus</td>\n",
       "      <td>1/25/2022 2:22</td>\n",
       "      <td>Bancroft_Vids_556.mp4</td>\n",
       "      <td>Bancroft_Vids_557.mp4</td>\n",
       "      <td>18.0</td>\n",
       "      <td>18</td>\n",
       "    </tr>\n",
       "    <tr>\n",
       "      <th>881</th>\n",
       "      <td>College Ave</td>\n",
       "      <td>2021-12-14 03:18:27</td>\n",
       "      <td>2021-12-14 03:19:31</td>\n",
       "      <td>1447</td>\n",
       "      <td>7.875000</td>\n",
       "      <td>True</td>\n",
       "      <td>bus</td>\n",
       "      <td>12/14/2021 3:19</td>\n",
       "      <td>Bancroft_Vids_7723.mp4</td>\n",
       "      <td>Bancroft_Vids_7724.mp4</td>\n",
       "      <td>19.0</td>\n",
       "      <td>19</td>\n",
       "    </tr>\n",
       "    <tr>\n",
       "      <th>521</th>\n",
       "      <td>College Ave</td>\n",
       "      <td>2021-11-11 02:27:32</td>\n",
       "      <td>2021-11-11 02:28:35</td>\n",
       "      <td>469</td>\n",
       "      <td>8.000000</td>\n",
       "      <td>True</td>\n",
       "      <td>bus</td>\n",
       "      <td>11/11/2021 2:28</td>\n",
       "      <td>Bancroft_Vids_4456.mp4</td>\n",
       "      <td>Bancroft_Vids_4457.mp4</td>\n",
       "      <td>18.0</td>\n",
       "      <td>18</td>\n",
       "    </tr>\n",
       "    <tr>\n",
       "      <th>1190</th>\n",
       "      <td>College Ave</td>\n",
       "      <td>2022-02-03 03:15:14</td>\n",
       "      <td>2022-02-03 03:16:17</td>\n",
       "      <td>2234</td>\n",
       "      <td>8.000000</td>\n",
       "      <td>True</td>\n",
       "      <td>bus</td>\n",
       "      <td>2/3/2022 3:16</td>\n",
       "      <td>Bancroft_Vids_1569.mp4</td>\n",
       "      <td>Bancroft_Vids_1570.mp4</td>\n",
       "      <td>19.0</td>\n",
       "      <td>19</td>\n",
       "    </tr>\n",
       "    <tr>\n",
       "      <th>737</th>\n",
       "      <td>College Ave</td>\n",
       "      <td>2021-12-03 02:51:33</td>\n",
       "      <td>2021-12-03 02:52:35</td>\n",
       "      <td>1080</td>\n",
       "      <td>8.129032</td>\n",
       "      <td>True</td>\n",
       "      <td>bus</td>\n",
       "      <td>12/3/2021 2:52</td>\n",
       "      <td>Bancroft_Vids_6582.mp4</td>\n",
       "      <td>Bancroft_Vids_6583.mp4</td>\n",
       "      <td>18.0</td>\n",
       "      <td>18</td>\n",
       "    </tr>\n",
       "    <tr>\n",
       "      <th>523</th>\n",
       "      <td>College Ave</td>\n",
       "      <td>2021-11-11 03:19:28</td>\n",
       "      <td>2021-11-11 03:20:30</td>\n",
       "      <td>473</td>\n",
       "      <td>8.129032</td>\n",
       "      <td>True</td>\n",
       "      <td>bus</td>\n",
       "      <td>11/11/2021 3:20</td>\n",
       "      <td>Bancroft_Vids_4470.mp4</td>\n",
       "      <td>Bancroft_Vids_4471.mp4</td>\n",
       "      <td>19.0</td>\n",
       "      <td>19</td>\n",
       "    </tr>\n",
       "    <tr>\n",
       "      <th>1290</th>\n",
       "      <td>College Ave</td>\n",
       "      <td>2022-02-17 03:17:07</td>\n",
       "      <td>2022-02-17 03:18:06</td>\n",
       "      <td>2490</td>\n",
       "      <td>8.542373</td>\n",
       "      <td>True</td>\n",
       "      <td>bus</td>\n",
       "      <td>2/17/2022 3:18</td>\n",
       "      <td>Bancroft_Vids_2427.mp4</td>\n",
       "      <td>Bancroft_Vids_2428.mp4</td>\n",
       "      <td>19.0</td>\n",
       "      <td>19</td>\n",
       "    </tr>\n",
       "    <tr>\n",
       "      <th>1188</th>\n",
       "      <td>College Ave</td>\n",
       "      <td>2022-02-03 02:22:18</td>\n",
       "      <td>2022-02-03 02:23:16</td>\n",
       "      <td>2229</td>\n",
       "      <td>8.689655</td>\n",
       "      <td>True</td>\n",
       "      <td>bus</td>\n",
       "      <td>2/3/2022 2:23</td>\n",
       "      <td>Bancroft_Vids_1557.mp4</td>\n",
       "      <td>Bancroft_Vids_1558.mp4</td>\n",
       "      <td>18.0</td>\n",
       "      <td>18</td>\n",
       "    </tr>\n",
       "    <tr>\n",
       "      <th>1355</th>\n",
       "      <td>College Ave</td>\n",
       "      <td>2022-03-02 02:50:24</td>\n",
       "      <td>2022-03-02 02:51:21</td>\n",
       "      <td>2650</td>\n",
       "      <td>8.842105</td>\n",
       "      <td>True</td>\n",
       "      <td>bus</td>\n",
       "      <td>3/2/2022 2:51</td>\n",
       "      <td>Bancroft_Vids_2955.mp4</td>\n",
       "      <td>Bancroft_Vids_2956.mp4</td>\n",
       "      <td>18.0</td>\n",
       "      <td>18</td>\n",
       "    </tr>\n",
       "    <tr>\n",
       "      <th>635</th>\n",
       "      <td>College Ave</td>\n",
       "      <td>2021-11-19 02:24:24</td>\n",
       "      <td>2021-11-19 02:25:21</td>\n",
       "      <td>804</td>\n",
       "      <td>8.842105</td>\n",
       "      <td>True</td>\n",
       "      <td>bus</td>\n",
       "      <td>11/19/2021 2:25</td>\n",
       "      <td>Bancroft_Vids_5330.mp4</td>\n",
       "      <td>Bancroft_Vids_5331.mp4</td>\n",
       "      <td>18.0</td>\n",
       "      <td>18</td>\n",
       "    </tr>\n",
       "    <tr>\n",
       "      <th>133</th>\n",
       "      <td>Bus Stop</td>\n",
       "      <td>2021-12-09 02:21:48</td>\n",
       "      <td>2021-12-09 02:22:49</td>\n",
       "      <td>1285</td>\n",
       "      <td>8.852459</td>\n",
       "      <td>True</td>\n",
       "      <td>bus</td>\n",
       "      <td>12/9/2021 2:22</td>\n",
       "      <td>Bancroft_Vids_7098.mp4</td>\n",
       "      <td>Bancroft_Vids_7099.mp4</td>\n",
       "      <td>18.0</td>\n",
       "      <td>18</td>\n",
       "    </tr>\n",
       "    <tr>\n",
       "      <th>1742</th>\n",
       "      <td>Shattuck</td>\n",
       "      <td>2022-01-25 02:24:18</td>\n",
       "      <td>2022-01-25 02:27:15</td>\n",
       "      <td>1821</td>\n",
       "      <td>8.949153</td>\n",
       "      <td>True</td>\n",
       "      <td>bus</td>\n",
       "      <td>1/25/2022 2:25</td>\n",
       "      <td>Bancroft_Vids_558.mp4</td>\n",
       "      <td>Bancroft_Vids_561.mp4</td>\n",
       "      <td>18.0</td>\n",
       "      <td>18</td>\n",
       "    </tr>\n",
       "    <tr>\n",
       "      <th>1406</th>\n",
       "      <td>College Ave</td>\n",
       "      <td>2022-03-04 03:18:23</td>\n",
       "      <td>2022-03-04 03:19:18</td>\n",
       "      <td>2783</td>\n",
       "      <td>9.163636</td>\n",
       "      <td>True</td>\n",
       "      <td>bus</td>\n",
       "      <td>3/4/2022 3:19</td>\n",
       "      <td>Bancroft_Vids_3336.mp4</td>\n",
       "      <td>Bancroft_Vids_3337.mp4</td>\n",
       "      <td>19.0</td>\n",
       "      <td>19</td>\n",
       "    </tr>\n",
       "  </tbody>\n",
       "</table>\n",
       "</div>"
      ],
      "text/plain": [
       "          segment             start_ts               end_ts  Unnamed: 0  \\\n",
       "814   College Ave  2021-12-09 03:19:29  2021-12-09 03:20:56        1287   \n",
       "375   College Ave  2021-10-05 01:54:25  2021-10-05 01:55:49          61   \n",
       "6        Bus Stop  2021-10-05 01:24:38  2021-10-05 01:26:04          59   \n",
       "929   College Ave  2021-12-16 02:54:28  2021-12-16 02:55:48        1549   \n",
       "1313  College Ave  2022-02-18 02:23:46  2022-02-18 02:25:01        2552   \n",
       "1438  College Ave  2022-03-08 02:21:58  2022-03-08 02:23:11        2847   \n",
       "567   College Ave  2021-11-16 03:18:24  2021-11-16 03:19:31         602   \n",
       "1045  College Ave  2022-01-25 02:21:53  2022-01-25 02:22:59        1816   \n",
       "881   College Ave  2021-12-14 03:18:27  2021-12-14 03:19:31        1447   \n",
       "521   College Ave  2021-11-11 02:27:32  2021-11-11 02:28:35         469   \n",
       "1190  College Ave  2022-02-03 03:15:14  2022-02-03 03:16:17        2234   \n",
       "737   College Ave  2021-12-03 02:51:33  2021-12-03 02:52:35        1080   \n",
       "523   College Ave  2021-11-11 03:19:28  2021-11-11 03:20:30         473   \n",
       "1290  College Ave  2022-02-17 03:17:07  2022-02-17 03:18:06        2490   \n",
       "1188  College Ave  2022-02-03 02:22:18  2022-02-03 02:23:16        2229   \n",
       "1355  College Ave  2022-03-02 02:50:24  2022-03-02 02:51:21        2650   \n",
       "635   College Ave  2021-11-19 02:24:24  2021-11-19 02:25:21         804   \n",
       "133      Bus Stop  2021-12-09 02:21:48  2021-12-09 02:22:49        1285   \n",
       "1742     Shattuck  2022-01-25 02:24:18  2022-01-25 02:27:15        1821   \n",
       "1406  College Ave  2022-03-04 03:18:23  2022-03-04 03:19:18        2783   \n",
       "\n",
       "         speed  detection obj_class     detection_ts          start_filename  \\\n",
       "814   5.793103       True       bus   12/9/2021 3:20  Bancroft_Vids_7111.mp4   \n",
       "375   6.000000       True       bus   10/5/2021 1:55  Bancroft_Vids_3821.mp4   \n",
       "6     6.279070       True       bus   10/5/2021 1:25  Bancroft_Vids_3816.mp4   \n",
       "929   6.300000       True       bus  12/16/2021 2:55  Bancroft_Vids_7976.mp4   \n",
       "1313  6.720000       True       bus   2/18/2022 2:24  Bancroft_Vids_2597.mp4   \n",
       "1438  6.904110       True       bus    3/8/2022 2:23  Bancroft_Vids_3588.mp4   \n",
       "567   7.522388       True       bus  11/16/2021 3:19  Bancroft_Vids_4807.mp4   \n",
       "1045  7.636364       True       bus   1/25/2022 2:22   Bancroft_Vids_556.mp4   \n",
       "881   7.875000       True       bus  12/14/2021 3:19  Bancroft_Vids_7723.mp4   \n",
       "521   8.000000       True       bus  11/11/2021 2:28  Bancroft_Vids_4456.mp4   \n",
       "1190  8.000000       True       bus    2/3/2022 3:16  Bancroft_Vids_1569.mp4   \n",
       "737   8.129032       True       bus   12/3/2021 2:52  Bancroft_Vids_6582.mp4   \n",
       "523   8.129032       True       bus  11/11/2021 3:20  Bancroft_Vids_4470.mp4   \n",
       "1290  8.542373       True       bus   2/17/2022 3:18  Bancroft_Vids_2427.mp4   \n",
       "1188  8.689655       True       bus    2/3/2022 2:23  Bancroft_Vids_1557.mp4   \n",
       "1355  8.842105       True       bus    3/2/2022 2:51  Bancroft_Vids_2955.mp4   \n",
       "635   8.842105       True       bus  11/19/2021 2:25  Bancroft_Vids_5330.mp4   \n",
       "133   8.852459       True       bus   12/9/2021 2:22  Bancroft_Vids_7098.mp4   \n",
       "1742  8.949153       True       bus   1/25/2022 2:25   Bancroft_Vids_558.mp4   \n",
       "1406  9.163636       True       bus    3/4/2022 3:19  Bancroft_Vids_3336.mp4   \n",
       "\n",
       "                end_filename  hour  segment_hour  \n",
       "814   Bancroft_Vids_7112.mp4  19.0            19  \n",
       "375   Bancroft_Vids_3823.mp4  18.0            18  \n",
       "6     Bancroft_Vids_3817.mp4  18.0            18  \n",
       "929   Bancroft_Vids_7977.mp4  18.0            18  \n",
       "1313  Bancroft_Vids_2598.mp4  18.0            18  \n",
       "1438  Bancroft_Vids_3589.mp4  18.0            18  \n",
       "567   Bancroft_Vids_4808.mp4  19.0            19  \n",
       "1045   Bancroft_Vids_557.mp4  18.0            18  \n",
       "881   Bancroft_Vids_7724.mp4  19.0            19  \n",
       "521   Bancroft_Vids_4457.mp4  18.0            18  \n",
       "1190  Bancroft_Vids_1570.mp4  19.0            19  \n",
       "737   Bancroft_Vids_6583.mp4  18.0            18  \n",
       "523   Bancroft_Vids_4471.mp4  19.0            19  \n",
       "1290  Bancroft_Vids_2428.mp4  19.0            19  \n",
       "1188  Bancroft_Vids_1558.mp4  18.0            18  \n",
       "1355  Bancroft_Vids_2956.mp4  18.0            18  \n",
       "635   Bancroft_Vids_5331.mp4  18.0            18  \n",
       "133   Bancroft_Vids_7099.mp4  18.0            18  \n",
       "1742   Bancroft_Vids_561.mp4  18.0            18  \n",
       "1406  Bancroft_Vids_3337.mp4  19.0            19  "
      ]
     },
     "execution_count": 58,
     "metadata": {},
     "output_type": "execute_result"
    }
   ],
   "source": [
    "ordered = grouped.sort_values(by=['speed'])\n",
    "ordered = ordered[ordered['speed'] > 5]\n",
    "ordered = ordered[ordered['hour'] > 17]\n",
    "ordered.head(20)"
   ]
  },
  {
   "cell_type": "markdown",
   "id": "b38a9072",
   "metadata": {},
   "source": [
    "amazon_truck\t2021-12-02 15:09:19\t2021-12-02 15:23:45\t1794\tCollege Ave\t0.581986\tTrue\t2021-12-02 15:21:31\tGRMN_Bancroft_2744.MP4\tGRMN_Bancroft_2759.MP4\t7.0\n",
    "\n",
    "GRMN_Bancroft_3077.MP4\n",
    "GRMN_Bancroft_3190.MP4\t\n",
    "\n",
    "Slow downs primarily due pedestrians crossing the street, bicycles in front of the bus\n"
   ]
  },
  {
   "cell_type": "code",
   "execution_count": 59,
   "id": "b5731b33",
   "metadata": {},
   "outputs": [],
   "source": [
    "hourly = grouped.groupby(\"segment_hour\").mean().reset_index()"
   ]
  },
  {
   "cell_type": "code",
   "execution_count": 60,
   "id": "7887942c",
   "metadata": {},
   "outputs": [
    {
     "data": {
      "text/plain": [
       "<AxesSubplot:xlabel='segment_hour'>"
      ]
     },
     "execution_count": 60,
     "metadata": {},
     "output_type": "execute_result"
    },
    {
     "data": {
      "image/png": "[encoded data removed]",
      "text/plain": [
       "<Figure size 432x288 with 1 Axes>"
      ]
     },
     "metadata": {
      "needs_background": "light"
     },
     "output_type": "display_data"
    }
   ],
   "source": [
    "hourly.plot(x=\"segment_hour\", y=\"speed\")\n"
   ]
  },
  {
   "cell_type": "code",
   "execution_count": 61,
   "id": "8d1c6390",
   "metadata": {},
   "outputs": [
    {
     "data": {
      "text/plain": [
       "10.694612316798759"
      ]
     },
     "execution_count": 61,
     "metadata": {},
     "output_type": "execute_result"
    }
   ],
   "source": [
    "#College AVE with det\n",
    "grouped[(grouped['detection'] == True)  & (grouped['segment']=='College Ave') & (grouped['hour'] > 1)]['speed'].mean()"
   ]
  },
  {
   "cell_type": "code",
   "execution_count": 62,
   "id": "ea7744f4",
   "metadata": {},
   "outputs": [
    {
     "data": {
      "text/html": [
       "<div>\n",
       "<style scoped>\n",
       "    .dataframe tbody tr th:only-of-type {\n",
       "        vertical-align: middle;\n",
       "    }\n",
       "\n",
       "    .dataframe tbody tr th {\n",
       "        vertical-align: top;\n",
       "    }\n",
       "\n",
       "    .dataframe thead th {\n",
       "        text-align: right;\n",
       "    }\n",
       "</style>\n",
       "<table border=\"1\" class=\"dataframe\">\n",
       "  <thead>\n",
       "    <tr style=\"text-align: right;\">\n",
       "      <th></th>\n",
       "      <th>segment</th>\n",
       "      <th>start_ts</th>\n",
       "      <th>end_ts</th>\n",
       "      <th>Unnamed: 0</th>\n",
       "      <th>speed</th>\n",
       "      <th>detection</th>\n",
       "      <th>obj_class</th>\n",
       "      <th>detection_ts</th>\n",
       "      <th>start_filename</th>\n",
       "      <th>end_filename</th>\n",
       "      <th>hour</th>\n",
       "      <th>segment_hour</th>\n",
       "    </tr>\n",
       "  </thead>\n",
       "  <tbody>\n",
       "    <tr>\n",
       "      <th>6</th>\n",
       "      <td>Bus Stop</td>\n",
       "      <td>2021-10-05 01:24:38</td>\n",
       "      <td>2021-10-05 01:26:04</td>\n",
       "      <td>59</td>\n",
       "      <td>6.279070</td>\n",
       "      <td>True</td>\n",
       "      <td>bus</td>\n",
       "      <td>10/5/2021 1:25</td>\n",
       "      <td>Bancroft_Vids_3816.mp4</td>\n",
       "      <td>Bancroft_Vids_3817.mp4</td>\n",
       "      <td>18.0</td>\n",
       "      <td>18</td>\n",
       "    </tr>\n",
       "    <tr>\n",
       "      <th>22</th>\n",
       "      <td>Bus Stop</td>\n",
       "      <td>2021-10-28 01:54:57</td>\n",
       "      <td>2021-10-28 01:55:26</td>\n",
       "      <td>168</td>\n",
       "      <td>18.620690</td>\n",
       "      <td>True</td>\n",
       "      <td>bus</td>\n",
       "      <td>10/28/2021 1:55</td>\n",
       "      <td>Bancroft_Vids_6085.mp4</td>\n",
       "      <td>Bancroft_Vids_6085.mp4</td>\n",
       "      <td>18.0</td>\n",
       "      <td>18</td>\n",
       "    </tr>\n",
       "    <tr>\n",
       "      <th>43</th>\n",
       "      <td>Bus Stop</td>\n",
       "      <td>2021-11-09 02:25:37</td>\n",
       "      <td>2021-11-09 02:26:05</td>\n",
       "      <td>368</td>\n",
       "      <td>19.285714</td>\n",
       "      <td>True</td>\n",
       "      <td>bus</td>\n",
       "      <td>11/9/2021 2:26</td>\n",
       "      <td>Bancroft_Vids_4170.mp4</td>\n",
       "      <td>Bancroft_Vids_4170.mp4</td>\n",
       "      <td>18.0</td>\n",
       "      <td>18</td>\n",
       "    </tr>\n",
       "    <tr>\n",
       "      <th>63</th>\n",
       "      <td>Bus Stop</td>\n",
       "      <td>2021-11-16 03:19:43</td>\n",
       "      <td>2021-11-16 03:20:22</td>\n",
       "      <td>603</td>\n",
       "      <td>13.846154</td>\n",
       "      <td>True</td>\n",
       "      <td>bus</td>\n",
       "      <td>11/16/2021 3:20</td>\n",
       "      <td>Bancroft_Vids_4808.mp4</td>\n",
       "      <td>Bancroft_Vids_4809.mp4</td>\n",
       "      <td>19.0</td>\n",
       "      <td>19</td>\n",
       "    </tr>\n",
       "    <tr>\n",
       "      <th>69</th>\n",
       "      <td>Bus Stop</td>\n",
       "      <td>2021-11-17 02:25:31</td>\n",
       "      <td>2021-11-17 02:26:03</td>\n",
       "      <td>671</td>\n",
       "      <td>16.875000</td>\n",
       "      <td>True</td>\n",
       "      <td>bus</td>\n",
       "      <td>11/17/2021 2:26</td>\n",
       "      <td>Bancroft_Vids_4964.mp4</td>\n",
       "      <td>Bancroft_Vids_4964.mp4</td>\n",
       "      <td>18.0</td>\n",
       "      <td>18</td>\n",
       "    </tr>\n",
       "    <tr>\n",
       "      <th>77</th>\n",
       "      <td>Bus Stop</td>\n",
       "      <td>2021-11-18 02:25:20</td>\n",
       "      <td>2021-11-18 02:26:06</td>\n",
       "      <td>733</td>\n",
       "      <td>11.739130</td>\n",
       "      <td>True</td>\n",
       "      <td>bus</td>\n",
       "      <td>11/18/2021 2:26</td>\n",
       "      <td>Bancroft_Vids_5035.mp4</td>\n",
       "      <td>Bancroft_Vids_5035.mp4</td>\n",
       "      <td>18.0</td>\n",
       "      <td>18</td>\n",
       "    </tr>\n",
       "    <tr>\n",
       "      <th>78</th>\n",
       "      <td>Bus Stop</td>\n",
       "      <td>2021-11-18 02:54:31</td>\n",
       "      <td>2021-11-18 02:55:08</td>\n",
       "      <td>745</td>\n",
       "      <td>14.594595</td>\n",
       "      <td>True</td>\n",
       "      <td>bus</td>\n",
       "      <td>11/18/2021 2:55</td>\n",
       "      <td>Bancroft_Vids_5042.mp4</td>\n",
       "      <td>Bancroft_Vids_5042.mp4</td>\n",
       "      <td>18.0</td>\n",
       "      <td>18</td>\n",
       "    </tr>\n",
       "    <tr>\n",
       "      <th>111</th>\n",
       "      <td>Bus Stop</td>\n",
       "      <td>2021-12-03 00:18:59</td>\n",
       "      <td>2021-12-03 00:19:32</td>\n",
       "      <td>1064</td>\n",
       "      <td>16.363636</td>\n",
       "      <td>True</td>\n",
       "      <td>bus</td>\n",
       "      <td>12/3/2021 0:19</td>\n",
       "      <td>Bancroft_Vids_6547.mp4</td>\n",
       "      <td>Bancroft_Vids_6548.mp4</td>\n",
       "      <td>16.0</td>\n",
       "      <td>16</td>\n",
       "    </tr>\n",
       "    <tr>\n",
       "      <th>112</th>\n",
       "      <td>Bus Stop</td>\n",
       "      <td>2021-12-03 01:26:42</td>\n",
       "      <td>2021-12-03 01:27:38</td>\n",
       "      <td>1068</td>\n",
       "      <td>9.642857</td>\n",
       "      <td>True</td>\n",
       "      <td>bus</td>\n",
       "      <td>12/3/2021 1:27</td>\n",
       "      <td>Bancroft_Vids_6562.mp4</td>\n",
       "      <td>Bancroft_Vids_6563.mp4</td>\n",
       "      <td>17.0</td>\n",
       "      <td>17</td>\n",
       "    </tr>\n",
       "    <tr>\n",
       "      <th>113</th>\n",
       "      <td>Bus Stop</td>\n",
       "      <td>2021-12-03 02:23:46</td>\n",
       "      <td>2021-12-03 02:24:12</td>\n",
       "      <td>1076</td>\n",
       "      <td>20.769231</td>\n",
       "      <td>True</td>\n",
       "      <td>bus</td>\n",
       "      <td>12/3/2021 2:24</td>\n",
       "      <td>Bancroft_Vids_6576.mp4</td>\n",
       "      <td>Bancroft_Vids_6576.mp4</td>\n",
       "      <td>18.0</td>\n",
       "      <td>18</td>\n",
       "    </tr>\n",
       "    <tr>\n",
       "      <th>114</th>\n",
       "      <td>Bus Stop</td>\n",
       "      <td>2021-12-03 02:52:46</td>\n",
       "      <td>2021-12-03 02:53:14</td>\n",
       "      <td>1082</td>\n",
       "      <td>19.285714</td>\n",
       "      <td>True</td>\n",
       "      <td>bus</td>\n",
       "      <td>12/3/2021 2:53</td>\n",
       "      <td>Bancroft_Vids_6583.mp4</td>\n",
       "      <td>Bancroft_Vids_6583.mp4</td>\n",
       "      <td>18.0</td>\n",
       "      <td>18</td>\n",
       "    </tr>\n",
       "    <tr>\n",
       "      <th>133</th>\n",
       "      <td>Bus Stop</td>\n",
       "      <td>2021-12-09 02:21:48</td>\n",
       "      <td>2021-12-09 02:22:49</td>\n",
       "      <td>1285</td>\n",
       "      <td>8.852459</td>\n",
       "      <td>True</td>\n",
       "      <td>bus</td>\n",
       "      <td>12/9/2021 2:22</td>\n",
       "      <td>Bancroft_Vids_7098.mp4</td>\n",
       "      <td>Bancroft_Vids_7099.mp4</td>\n",
       "      <td>18.0</td>\n",
       "      <td>18</td>\n",
       "    </tr>\n",
       "    <tr>\n",
       "      <th>144</th>\n",
       "      <td>Bus Stop</td>\n",
       "      <td>2021-12-10 00:50:59</td>\n",
       "      <td>2021-12-10 00:51:38</td>\n",
       "      <td>1336</td>\n",
       "      <td>13.846154</td>\n",
       "      <td>True</td>\n",
       "      <td>bus</td>\n",
       "      <td>12/10/2021 0:51</td>\n",
       "      <td>Bancroft_Vids_7349.mp4</td>\n",
       "      <td>Bancroft_Vids_7350.mp4</td>\n",
       "      <td>16.0</td>\n",
       "      <td>16</td>\n",
       "    </tr>\n",
       "    <tr>\n",
       "      <th>165</th>\n",
       "      <td>Bus Stop</td>\n",
       "      <td>2021-12-14 03:19:46</td>\n",
       "      <td>2021-12-14 03:20:28</td>\n",
       "      <td>1448</td>\n",
       "      <td>12.857143</td>\n",
       "      <td>True</td>\n",
       "      <td>bus</td>\n",
       "      <td>12/14/2021 3:20</td>\n",
       "      <td>Bancroft_Vids_7724.mp4</td>\n",
       "      <td>Bancroft_Vids_7725.mp4</td>\n",
       "      <td>19.0</td>\n",
       "      <td>19</td>\n",
       "    </tr>\n",
       "    <tr>\n",
       "      <th>209</th>\n",
       "      <td>Bus Stop</td>\n",
       "      <td>2022-01-21 01:55:55</td>\n",
       "      <td>2022-01-21 01:56:47</td>\n",
       "      <td>1724</td>\n",
       "      <td>10.384615</td>\n",
       "      <td>True</td>\n",
       "      <td>bus</td>\n",
       "      <td>1/21/2022 1:56</td>\n",
       "      <td>Bancroft_Vids_230.mp4</td>\n",
       "      <td>Bancroft_Vids_231.mp4</td>\n",
       "      <td>17.0</td>\n",
       "      <td>17</td>\n",
       "    </tr>\n",
       "    <tr>\n",
       "      <th>222</th>\n",
       "      <td>Bus Stop</td>\n",
       "      <td>2022-01-25 00:46:50</td>\n",
       "      <td>2022-01-25 00:47:27</td>\n",
       "      <td>1810</td>\n",
       "      <td>14.594595</td>\n",
       "      <td>True</td>\n",
       "      <td>bus</td>\n",
       "      <td>1/25/2022 0:47</td>\n",
       "      <td>Bancroft_Vids_535.mp4</td>\n",
       "      <td>Bancroft_Vids_536.mp4</td>\n",
       "      <td>16.0</td>\n",
       "      <td>16</td>\n",
       "    </tr>\n",
       "    <tr>\n",
       "      <th>226</th>\n",
       "      <td>Bus Stop</td>\n",
       "      <td>2022-01-25 03:14:52</td>\n",
       "      <td>2022-01-25 03:15:13</td>\n",
       "      <td>1827</td>\n",
       "      <td>25.714286</td>\n",
       "      <td>True</td>\n",
       "      <td>bus</td>\n",
       "      <td>1/25/2022 3:15</td>\n",
       "      <td>Bancroft_Vids_571.mp4</td>\n",
       "      <td>Bancroft_Vids_571.mp4</td>\n",
       "      <td>19.0</td>\n",
       "      <td>19</td>\n",
       "    </tr>\n",
       "    <tr>\n",
       "      <th>262</th>\n",
       "      <td>Bus Stop</td>\n",
       "      <td>2022-02-01 02:54:13</td>\n",
       "      <td>2022-02-01 02:55:04</td>\n",
       "      <td>2102</td>\n",
       "      <td>10.588235</td>\n",
       "      <td>True</td>\n",
       "      <td>bus</td>\n",
       "      <td>2/1/2022 2:55</td>\n",
       "      <td>Bancroft_Vids_1310.mp4</td>\n",
       "      <td>Bancroft_Vids_1311.mp4</td>\n",
       "      <td>18.0</td>\n",
       "      <td>18</td>\n",
       "    </tr>\n",
       "    <tr>\n",
       "      <th>279</th>\n",
       "      <td>Bus Stop</td>\n",
       "      <td>2022-02-04 00:17:54</td>\n",
       "      <td>2022-02-04 00:18:31</td>\n",
       "      <td>2277</td>\n",
       "      <td>14.594595</td>\n",
       "      <td>True</td>\n",
       "      <td>bus</td>\n",
       "      <td>2/4/2022 0:18</td>\n",
       "      <td>Bancroft_Vids_1786.mp4</td>\n",
       "      <td>Bancroft_Vids_1787.mp4</td>\n",
       "      <td>16.0</td>\n",
       "      <td>16</td>\n",
       "    </tr>\n",
       "    <tr>\n",
       "      <th>308</th>\n",
       "      <td>Bus Stop</td>\n",
       "      <td>2022-02-17 00:21:24</td>\n",
       "      <td>2022-02-17 00:22:13</td>\n",
       "      <td>2482</td>\n",
       "      <td>11.020408</td>\n",
       "      <td>True</td>\n",
       "      <td>bus</td>\n",
       "      <td>2/17/2022 0:22</td>\n",
       "      <td>Bancroft_Vids_2389.mp4</td>\n",
       "      <td>Bancroft_Vids_2390.mp4</td>\n",
       "      <td>16.0</td>\n",
       "      <td>16</td>\n",
       "    </tr>\n",
       "    <tr>\n",
       "      <th>316</th>\n",
       "      <td>Bus Stop</td>\n",
       "      <td>2022-02-18 02:56:49</td>\n",
       "      <td>2022-02-18 02:57:21</td>\n",
       "      <td>2558</td>\n",
       "      <td>16.875000</td>\n",
       "      <td>True</td>\n",
       "      <td>bus</td>\n",
       "      <td>2/18/2022 2:57</td>\n",
       "      <td>Bancroft_Vids_2606.mp4</td>\n",
       "      <td>Bancroft_Vids_2607.mp4</td>\n",
       "      <td>18.0</td>\n",
       "      <td>18</td>\n",
       "    </tr>\n",
       "    <tr>\n",
       "      <th>337</th>\n",
       "      <td>Bus Stop</td>\n",
       "      <td>2022-03-04 02:24:58</td>\n",
       "      <td>2022-03-04 02:25:56</td>\n",
       "      <td>2781</td>\n",
       "      <td>9.310345</td>\n",
       "      <td>True</td>\n",
       "      <td>bus</td>\n",
       "      <td>3/4/2022 2:25</td>\n",
       "      <td>Bancroft_Vids_3327.mp4</td>\n",
       "      <td>Bancroft_Vids_3328.mp4</td>\n",
       "      <td>18.0</td>\n",
       "      <td>18</td>\n",
       "    </tr>\n",
       "    <tr>\n",
       "      <th>342</th>\n",
       "      <td>Bus Stop</td>\n",
       "      <td>2022-03-05 00:49:37</td>\n",
       "      <td>2022-03-05 00:52:05</td>\n",
       "      <td>2799</td>\n",
       "      <td>3.648649</td>\n",
       "      <td>True</td>\n",
       "      <td>bus</td>\n",
       "      <td>3/5/2022 0:50</td>\n",
       "      <td>Bancroft_Vids_3400.mp4</td>\n",
       "      <td>Bancroft_Vids_3403.mp4</td>\n",
       "      <td>16.0</td>\n",
       "      <td>16</td>\n",
       "    </tr>\n",
       "    <tr>\n",
       "      <th>371</th>\n",
       "      <td>College Ave</td>\n",
       "      <td>2021-10-04 23:47:19</td>\n",
       "      <td>2021-10-04 23:48:10</td>\n",
       "      <td>53</td>\n",
       "      <td>9.882353</td>\n",
       "      <td>True</td>\n",
       "      <td>fedex_truck</td>\n",
       "      <td>10/4/2021 23:48</td>\n",
       "      <td>Bancroft_Vids_3797.mp4</td>\n",
       "      <td>Bancroft_Vids_3798.mp4</td>\n",
       "      <td>16.0</td>\n",
       "      <td>16</td>\n",
       "    </tr>\n",
       "    <tr>\n",
       "      <th>375</th>\n",
       "      <td>College Ave</td>\n",
       "      <td>2021-10-05 01:54:25</td>\n",
       "      <td>2021-10-05 01:55:49</td>\n",
       "      <td>61</td>\n",
       "      <td>6.000000</td>\n",
       "      <td>True</td>\n",
       "      <td>bus</td>\n",
       "      <td>10/5/2021 1:55</td>\n",
       "      <td>Bancroft_Vids_3821.mp4</td>\n",
       "      <td>Bancroft_Vids_3823.mp4</td>\n",
       "      <td>18.0</td>\n",
       "      <td>18</td>\n",
       "    </tr>\n",
       "    <tr>\n",
       "      <th>417</th>\n",
       "      <td>College Ave</td>\n",
       "      <td>2021-10-27 23:49:31</td>\n",
       "      <td>2021-10-27 23:50:01</td>\n",
       "      <td>163</td>\n",
       "      <td>16.800000</td>\n",
       "      <td>True</td>\n",
       "      <td>bus</td>\n",
       "      <td>10/27/2021 23:50</td>\n",
       "      <td>Bancroft_Vids_6059.mp4</td>\n",
       "      <td>Bancroft_Vids_6060.mp4</td>\n",
       "      <td>16.0</td>\n",
       "      <td>16</td>\n",
       "    </tr>\n",
       "    <tr>\n",
       "      <th>419</th>\n",
       "      <td>College Ave</td>\n",
       "      <td>2021-10-28 00:54:50</td>\n",
       "      <td>2021-10-28 00:55:30</td>\n",
       "      <td>165</td>\n",
       "      <td>12.600000</td>\n",
       "      <td>True</td>\n",
       "      <td>amazon_truck</td>\n",
       "      <td>10/28/2021 0:55</td>\n",
       "      <td>Bancroft_Vids_6072.mp4</td>\n",
       "      <td>Bancroft_Vids_6072.mp4</td>\n",
       "      <td>17.0</td>\n",
       "      <td>17</td>\n",
       "    </tr>\n",
       "    <tr>\n",
       "      <th>421</th>\n",
       "      <td>College Ave</td>\n",
       "      <td>2021-10-28 02:19:55</td>\n",
       "      <td>2021-10-28 02:20:45</td>\n",
       "      <td>170</td>\n",
       "      <td>10.080000</td>\n",
       "      <td>True</td>\n",
       "      <td>bus</td>\n",
       "      <td>10/28/2021 2:20</td>\n",
       "      <td>Bancroft_Vids_6090.mp4</td>\n",
       "      <td>Bancroft_Vids_6090.mp4</td>\n",
       "      <td>19.0</td>\n",
       "      <td>19</td>\n",
       "    </tr>\n",
       "    <tr>\n",
       "      <th>441</th>\n",
       "      <td>College Ave</td>\n",
       "      <td>2021-10-28 23:48:56</td>\n",
       "      <td>2021-10-28 23:49:48</td>\n",
       "      <td>229</td>\n",
       "      <td>9.692308</td>\n",
       "      <td>True</td>\n",
       "      <td>bus</td>\n",
       "      <td>10/28/2021 23:49</td>\n",
       "      <td>Bancroft_Vids_6241.mp4</td>\n",
       "      <td>Bancroft_Vids_6242.mp4</td>\n",
       "      <td>16.0</td>\n",
       "      <td>16</td>\n",
       "    </tr>\n",
       "    <tr>\n",
       "      <th>443</th>\n",
       "      <td>College Ave</td>\n",
       "      <td>2021-10-29 00:54:40</td>\n",
       "      <td>2021-10-29 00:55:53</td>\n",
       "      <td>235</td>\n",
       "      <td>6.904110</td>\n",
       "      <td>True</td>\n",
       "      <td>bus</td>\n",
       "      <td>10/29/2021 0:55</td>\n",
       "      <td>Bancroft_Vids_6256.mp4</td>\n",
       "      <td>Bancroft_Vids_6257.mp4</td>\n",
       "      <td>17.0</td>\n",
       "      <td>17</td>\n",
       "    </tr>\n",
       "    <tr>\n",
       "      <th>444</th>\n",
       "      <td>College Ave</td>\n",
       "      <td>2021-10-29 01:53:37</td>\n",
       "      <td>2021-10-29 01:54:16</td>\n",
       "      <td>236</td>\n",
       "      <td>12.923077</td>\n",
       "      <td>True</td>\n",
       "      <td>bus</td>\n",
       "      <td>10/29/2021 1:54</td>\n",
       "      <td>Bancroft_Vids_6267.mp4</td>\n",
       "      <td>Bancroft_Vids_6268.mp4</td>\n",
       "      <td>18.0</td>\n",
       "      <td>18</td>\n",
       "    </tr>\n",
       "    <tr>\n",
       "      <th>484</th>\n",
       "      <td>College Ave</td>\n",
       "      <td>2021-11-09 02:54:32</td>\n",
       "      <td>2021-11-09 02:55:21</td>\n",
       "      <td>376</td>\n",
       "      <td>10.285714</td>\n",
       "      <td>True</td>\n",
       "      <td>bus</td>\n",
       "      <td>11/9/2021 2:55</td>\n",
       "      <td>Bancroft_Vids_4175.mp4</td>\n",
       "      <td>Bancroft_Vids_4175.mp4</td>\n",
       "      <td>18.0</td>\n",
       "      <td>18</td>\n",
       "    </tr>\n",
       "    <tr>\n",
       "      <th>521</th>\n",
       "      <td>College Ave</td>\n",
       "      <td>2021-11-11 02:27:32</td>\n",
       "      <td>2021-11-11 02:28:35</td>\n",
       "      <td>469</td>\n",
       "      <td>8.000000</td>\n",
       "      <td>True</td>\n",
       "      <td>bus</td>\n",
       "      <td>11/11/2021 2:28</td>\n",
       "      <td>Bancroft_Vids_4456.mp4</td>\n",
       "      <td>Bancroft_Vids_4457.mp4</td>\n",
       "      <td>18.0</td>\n",
       "      <td>18</td>\n",
       "    </tr>\n",
       "    <tr>\n",
       "      <th>523</th>\n",
       "      <td>College Ave</td>\n",
       "      <td>2021-11-11 03:19:28</td>\n",
       "      <td>2021-11-11 03:20:30</td>\n",
       "      <td>473</td>\n",
       "      <td>8.129032</td>\n",
       "      <td>True</td>\n",
       "      <td>bus</td>\n",
       "      <td>11/11/2021 3:20</td>\n",
       "      <td>Bancroft_Vids_4470.mp4</td>\n",
       "      <td>Bancroft_Vids_4471.mp4</td>\n",
       "      <td>19.0</td>\n",
       "      <td>19</td>\n",
       "    </tr>\n",
       "    <tr>\n",
       "      <th>561</th>\n",
       "      <td>College Ave</td>\n",
       "      <td>2021-11-16 00:18:55</td>\n",
       "      <td>2021-11-16 00:19:57</td>\n",
       "      <td>581</td>\n",
       "      <td>8.129032</td>\n",
       "      <td>True</td>\n",
       "      <td>bus</td>\n",
       "      <td>11/16/2021 0:19</td>\n",
       "      <td>Bancroft_Vids_4765.mp4</td>\n",
       "      <td>Bancroft_Vids_4766.mp4</td>\n",
       "      <td>16.0</td>\n",
       "      <td>16</td>\n",
       "    </tr>\n",
       "    <tr>\n",
       "      <th>562</th>\n",
       "      <td>College Ave</td>\n",
       "      <td>2021-11-16 00:44:55</td>\n",
       "      <td>2021-11-16 00:46:10</td>\n",
       "      <td>582</td>\n",
       "      <td>6.720000</td>\n",
       "      <td>True</td>\n",
       "      <td>amazon_truck</td>\n",
       "      <td>11/16/2021 0:46</td>\n",
       "      <td>Bancroft_Vids_4771.mp4</td>\n",
       "      <td>Bancroft_Vids_4772.mp4</td>\n",
       "      <td>16.0</td>\n",
       "      <td>16</td>\n",
       "    </tr>\n",
       "    <tr>\n",
       "      <th>565</th>\n",
       "      <td>College Ave</td>\n",
       "      <td>2021-11-16 02:27:22</td>\n",
       "      <td>2021-11-16 02:28:04</td>\n",
       "      <td>590</td>\n",
       "      <td>12.000000</td>\n",
       "      <td>True</td>\n",
       "      <td>bus</td>\n",
       "      <td>11/16/2021 2:28</td>\n",
       "      <td>Bancroft_Vids_4796.mp4</td>\n",
       "      <td>Bancroft_Vids_4797.mp4</td>\n",
       "      <td>18.0</td>\n",
       "      <td>18</td>\n",
       "    </tr>\n",
       "    <tr>\n",
       "      <th>567</th>\n",
       "      <td>College Ave</td>\n",
       "      <td>2021-11-16 03:18:24</td>\n",
       "      <td>2021-11-16 03:19:31</td>\n",
       "      <td>602</td>\n",
       "      <td>7.522388</td>\n",
       "      <td>True</td>\n",
       "      <td>bus</td>\n",
       "      <td>11/16/2021 3:19</td>\n",
       "      <td>Bancroft_Vids_4807.mp4</td>\n",
       "      <td>Bancroft_Vids_4808.mp4</td>\n",
       "      <td>19.0</td>\n",
       "      <td>19</td>\n",
       "    </tr>\n",
       "    <tr>\n",
       "      <th>587</th>\n",
       "      <td>College Ave</td>\n",
       "      <td>2021-11-17 01:58:26</td>\n",
       "      <td>2021-11-17 01:59:32</td>\n",
       "      <td>667</td>\n",
       "      <td>7.636364</td>\n",
       "      <td>True</td>\n",
       "      <td>bus</td>\n",
       "      <td>11/17/2021 1:59</td>\n",
       "      <td>Bancroft_Vids_4957.mp4</td>\n",
       "      <td>Bancroft_Vids_4958.mp4</td>\n",
       "      <td>17.0</td>\n",
       "      <td>17</td>\n",
       "    </tr>\n",
       "    <tr>\n",
       "      <th>590</th>\n",
       "      <td>College Ave</td>\n",
       "      <td>2021-11-17 03:19:31</td>\n",
       "      <td>2021-11-17 03:20:06</td>\n",
       "      <td>673</td>\n",
       "      <td>14.400000</td>\n",
       "      <td>True</td>\n",
       "      <td>bus</td>\n",
       "      <td>11/17/2021 3:20</td>\n",
       "      <td>Bancroft_Vids_4973.mp4</td>\n",
       "      <td>Bancroft_Vids_4973.mp4</td>\n",
       "      <td>19.0</td>\n",
       "      <td>19</td>\n",
       "    </tr>\n",
       "    <tr>\n",
       "      <th>613</th>\n",
       "      <td>College Ave</td>\n",
       "      <td>2021-11-18 02:24:19</td>\n",
       "      <td>2021-11-18 02:25:08</td>\n",
       "      <td>731</td>\n",
       "      <td>10.285714</td>\n",
       "      <td>True</td>\n",
       "      <td>bus</td>\n",
       "      <td>11/18/2021 2:25</td>\n",
       "      <td>Bancroft_Vids_5034.mp4</td>\n",
       "      <td>Bancroft_Vids_5034.mp4</td>\n",
       "      <td>18.0</td>\n",
       "      <td>18</td>\n",
       "    </tr>\n",
       "    <tr>\n",
       "      <th>614</th>\n",
       "      <td>College Ave</td>\n",
       "      <td>2021-11-18 02:53:30</td>\n",
       "      <td>2021-11-18 02:54:22</td>\n",
       "      <td>742</td>\n",
       "      <td>9.692308</td>\n",
       "      <td>True</td>\n",
       "      <td>bus</td>\n",
       "      <td>11/18/2021 2:54</td>\n",
       "      <td>Bancroft_Vids_5041.mp4</td>\n",
       "      <td>Bancroft_Vids_5042.mp4</td>\n",
       "      <td>18.0</td>\n",
       "      <td>18</td>\n",
       "    </tr>\n",
       "    <tr>\n",
       "      <th>634</th>\n",
       "      <td>College Ave</td>\n",
       "      <td>2021-11-19 01:52:30</td>\n",
       "      <td>2021-11-19 01:53:55</td>\n",
       "      <td>801</td>\n",
       "      <td>5.929412</td>\n",
       "      <td>True</td>\n",
       "      <td>bus</td>\n",
       "      <td>11/19/2021 1:53</td>\n",
       "      <td>Bancroft_Vids_5323.mp4</td>\n",
       "      <td>Bancroft_Vids_5325.mp4</td>\n",
       "      <td>17.0</td>\n",
       "      <td>17</td>\n",
       "    </tr>\n",
       "    <tr>\n",
       "      <th>635</th>\n",
       "      <td>College Ave</td>\n",
       "      <td>2021-11-19 02:24:24</td>\n",
       "      <td>2021-11-19 02:25:21</td>\n",
       "      <td>804</td>\n",
       "      <td>8.842105</td>\n",
       "      <td>True</td>\n",
       "      <td>bus</td>\n",
       "      <td>11/19/2021 2:25</td>\n",
       "      <td>Bancroft_Vids_5330.mp4</td>\n",
       "      <td>Bancroft_Vids_5331.mp4</td>\n",
       "      <td>18.0</td>\n",
       "      <td>18</td>\n",
       "    </tr>\n",
       "    <tr>\n",
       "      <th>636</th>\n",
       "      <td>College Ave</td>\n",
       "      <td>2021-11-19 02:56:47</td>\n",
       "      <td>2021-11-19 02:57:31</td>\n",
       "      <td>806</td>\n",
       "      <td>11.454545</td>\n",
       "      <td>True</td>\n",
       "      <td>bus</td>\n",
       "      <td>11/19/2021 2:57</td>\n",
       "      <td>Bancroft_Vids_5337.mp4</td>\n",
       "      <td>Bancroft_Vids_5337.mp4</td>\n",
       "      <td>18.0</td>\n",
       "      <td>18</td>\n",
       "    </tr>\n",
       "    <tr>\n",
       "      <th>701</th>\n",
       "      <td>College Ave</td>\n",
       "      <td>2021-11-24 03:16:07</td>\n",
       "      <td>2021-11-24 03:17:51</td>\n",
       "      <td>975</td>\n",
       "      <td>4.846154</td>\n",
       "      <td>True</td>\n",
       "      <td>bus</td>\n",
       "      <td>11/24/2021 3:17</td>\n",
       "      <td>Bancroft_Vids_5842.mp4</td>\n",
       "      <td>Bancroft_Vids_5843.mp4</td>\n",
       "      <td>19.0</td>\n",
       "      <td>19</td>\n",
       "    </tr>\n",
       "    <tr>\n",
       "      <th>734</th>\n",
       "      <td>College Ave</td>\n",
       "      <td>2021-12-03 01:25:35</td>\n",
       "      <td>2021-12-03 01:26:31</td>\n",
       "      <td>1067</td>\n",
       "      <td>9.000000</td>\n",
       "      <td>True</td>\n",
       "      <td>bus</td>\n",
       "      <td>12/3/2021 1:26</td>\n",
       "      <td>Bancroft_Vids_6561.mp4</td>\n",
       "      <td>Bancroft_Vids_6562.mp4</td>\n",
       "      <td>17.0</td>\n",
       "      <td>17</td>\n",
       "    </tr>\n",
       "    <tr>\n",
       "      <th>735</th>\n",
       "      <td>College Ave</td>\n",
       "      <td>2021-12-03 01:51:26</td>\n",
       "      <td>2021-12-03 01:52:14</td>\n",
       "      <td>1070</td>\n",
       "      <td>10.500000</td>\n",
       "      <td>True</td>\n",
       "      <td>bus</td>\n",
       "      <td>12/3/2021 1:52</td>\n",
       "      <td>Bancroft_Vids_6568.mp4</td>\n",
       "      <td>Bancroft_Vids_6568.mp4</td>\n",
       "      <td>17.0</td>\n",
       "      <td>17</td>\n",
       "    </tr>\n",
       "    <tr>\n",
       "      <th>737</th>\n",
       "      <td>College Ave</td>\n",
       "      <td>2021-12-03 02:51:33</td>\n",
       "      <td>2021-12-03 02:52:35</td>\n",
       "      <td>1080</td>\n",
       "      <td>8.129032</td>\n",
       "      <td>True</td>\n",
       "      <td>bus</td>\n",
       "      <td>12/3/2021 2:52</td>\n",
       "      <td>Bancroft_Vids_6582.mp4</td>\n",
       "      <td>Bancroft_Vids_6583.mp4</td>\n",
       "      <td>18.0</td>\n",
       "      <td>18</td>\n",
       "    </tr>\n",
       "    <tr>\n",
       "      <th>769</th>\n",
       "      <td>College Ave</td>\n",
       "      <td>2021-12-07 00:45:53</td>\n",
       "      <td>2021-12-07 00:46:42</td>\n",
       "      <td>1165</td>\n",
       "      <td>10.285714</td>\n",
       "      <td>True</td>\n",
       "      <td>bus</td>\n",
       "      <td>12/7/2021 0:46</td>\n",
       "      <td>Bancroft_Vids_6832.mp4</td>\n",
       "      <td>Bancroft_Vids_6833.mp4</td>\n",
       "      <td>16.0</td>\n",
       "      <td>16</td>\n",
       "    </tr>\n",
       "  </tbody>\n",
       "</table>\n",
       "</div>"
      ],
      "text/plain": [
       "         segment             start_ts               end_ts  Unnamed: 0  \\\n",
       "6       Bus Stop  2021-10-05 01:24:38  2021-10-05 01:26:04          59   \n",
       "22      Bus Stop  2021-10-28 01:54:57  2021-10-28 01:55:26         168   \n",
       "43      Bus Stop  2021-11-09 02:25:37  2021-11-09 02:26:05         368   \n",
       "63      Bus Stop  2021-11-16 03:19:43  2021-11-16 03:20:22         603   \n",
       "69      Bus Stop  2021-11-17 02:25:31  2021-11-17 02:26:03         671   \n",
       "77      Bus Stop  2021-11-18 02:25:20  2021-11-18 02:26:06         733   \n",
       "78      Bus Stop  2021-11-18 02:54:31  2021-11-18 02:55:08         745   \n",
       "111     Bus Stop  2021-12-03 00:18:59  2021-12-03 00:19:32        1064   \n",
       "112     Bus Stop  2021-12-03 01:26:42  2021-12-03 01:27:38        1068   \n",
       "113     Bus Stop  2021-12-03 02:23:46  2021-12-03 02:24:12        1076   \n",
       "114     Bus Stop  2021-12-03 02:52:46  2021-12-03 02:53:14        1082   \n",
       "133     Bus Stop  2021-12-09 02:21:48  2021-12-09 02:22:49        1285   \n",
       "144     Bus Stop  2021-12-10 00:50:59  2021-12-10 00:51:38        1336   \n",
       "165     Bus Stop  2021-12-14 03:19:46  2021-12-14 03:20:28        1448   \n",
       "209     Bus Stop  2022-01-21 01:55:55  2022-01-21 01:56:47        1724   \n",
       "222     Bus Stop  2022-01-25 00:46:50  2022-01-25 00:47:27        1810   \n",
       "226     Bus Stop  2022-01-25 03:14:52  2022-01-25 03:15:13        1827   \n",
       "262     Bus Stop  2022-02-01 02:54:13  2022-02-01 02:55:04        2102   \n",
       "279     Bus Stop  2022-02-04 00:17:54  2022-02-04 00:18:31        2277   \n",
       "308     Bus Stop  2022-02-17 00:21:24  2022-02-17 00:22:13        2482   \n",
       "316     Bus Stop  2022-02-18 02:56:49  2022-02-18 02:57:21        2558   \n",
       "337     Bus Stop  2022-03-04 02:24:58  2022-03-04 02:25:56        2781   \n",
       "342     Bus Stop  2022-03-05 00:49:37  2022-03-05 00:52:05        2799   \n",
       "371  College Ave  2021-10-04 23:47:19  2021-10-04 23:48:10          53   \n",
       "375  College Ave  2021-10-05 01:54:25  2021-10-05 01:55:49          61   \n",
       "417  College Ave  2021-10-27 23:49:31  2021-10-27 23:50:01         163   \n",
       "419  College Ave  2021-10-28 00:54:50  2021-10-28 00:55:30         165   \n",
       "421  College Ave  2021-10-28 02:19:55  2021-10-28 02:20:45         170   \n",
       "441  College Ave  2021-10-28 23:48:56  2021-10-28 23:49:48         229   \n",
       "443  College Ave  2021-10-29 00:54:40  2021-10-29 00:55:53         235   \n",
       "444  College Ave  2021-10-29 01:53:37  2021-10-29 01:54:16         236   \n",
       "484  College Ave  2021-11-09 02:54:32  2021-11-09 02:55:21         376   \n",
       "521  College Ave  2021-11-11 02:27:32  2021-11-11 02:28:35         469   \n",
       "523  College Ave  2021-11-11 03:19:28  2021-11-11 03:20:30         473   \n",
       "561  College Ave  2021-11-16 00:18:55  2021-11-16 00:19:57         581   \n",
       "562  College Ave  2021-11-16 00:44:55  2021-11-16 00:46:10         582   \n",
       "565  College Ave  2021-11-16 02:27:22  2021-11-16 02:28:04         590   \n",
       "567  College Ave  2021-11-16 03:18:24  2021-11-16 03:19:31         602   \n",
       "587  College Ave  2021-11-17 01:58:26  2021-11-17 01:59:32         667   \n",
       "590  College Ave  2021-11-17 03:19:31  2021-11-17 03:20:06         673   \n",
       "613  College Ave  2021-11-18 02:24:19  2021-11-18 02:25:08         731   \n",
       "614  College Ave  2021-11-18 02:53:30  2021-11-18 02:54:22         742   \n",
       "634  College Ave  2021-11-19 01:52:30  2021-11-19 01:53:55         801   \n",
       "635  College Ave  2021-11-19 02:24:24  2021-11-19 02:25:21         804   \n",
       "636  College Ave  2021-11-19 02:56:47  2021-11-19 02:57:31         806   \n",
       "701  College Ave  2021-11-24 03:16:07  2021-11-24 03:17:51         975   \n",
       "734  College Ave  2021-12-03 01:25:35  2021-12-03 01:26:31        1067   \n",
       "735  College Ave  2021-12-03 01:51:26  2021-12-03 01:52:14        1070   \n",
       "737  College Ave  2021-12-03 02:51:33  2021-12-03 02:52:35        1080   \n",
       "769  College Ave  2021-12-07 00:45:53  2021-12-07 00:46:42        1165   \n",
       "\n",
       "         speed  detection     obj_class      detection_ts  \\\n",
       "6     6.279070       True           bus    10/5/2021 1:25   \n",
       "22   18.620690       True           bus   10/28/2021 1:55   \n",
       "43   19.285714       True           bus    11/9/2021 2:26   \n",
       "63   13.846154       True           bus   11/16/2021 3:20   \n",
       "69   16.875000       True           bus   11/17/2021 2:26   \n",
       "77   11.739130       True           bus   11/18/2021 2:26   \n",
       "78   14.594595       True           bus   11/18/2021 2:55   \n",
       "111  16.363636       True           bus    12/3/2021 0:19   \n",
       "112   9.642857       True           bus    12/3/2021 1:27   \n",
       "113  20.769231       True           bus    12/3/2021 2:24   \n",
       "114  19.285714       True           bus    12/3/2021 2:53   \n",
       "133   8.852459       True           bus    12/9/2021 2:22   \n",
       "144  13.846154       True           bus   12/10/2021 0:51   \n",
       "165  12.857143       True           bus   12/14/2021 3:20   \n",
       "209  10.384615       True           bus    1/21/2022 1:56   \n",
       "222  14.594595       True           bus    1/25/2022 0:47   \n",
       "226  25.714286       True           bus    1/25/2022 3:15   \n",
       "262  10.588235       True           bus     2/1/2022 2:55   \n",
       "279  14.594595       True           bus     2/4/2022 0:18   \n",
       "308  11.020408       True           bus    2/17/2022 0:22   \n",
       "316  16.875000       True           bus    2/18/2022 2:57   \n",
       "337   9.310345       True           bus     3/4/2022 2:25   \n",
       "342   3.648649       True           bus     3/5/2022 0:50   \n",
       "371   9.882353       True   fedex_truck   10/4/2021 23:48   \n",
       "375   6.000000       True           bus    10/5/2021 1:55   \n",
       "417  16.800000       True           bus  10/27/2021 23:50   \n",
       "419  12.600000       True  amazon_truck   10/28/2021 0:55   \n",
       "421  10.080000       True           bus   10/28/2021 2:20   \n",
       "441   9.692308       True           bus  10/28/2021 23:49   \n",
       "443   6.904110       True           bus   10/29/2021 0:55   \n",
       "444  12.923077       True           bus   10/29/2021 1:54   \n",
       "484  10.285714       True           bus    11/9/2021 2:55   \n",
       "521   8.000000       True           bus   11/11/2021 2:28   \n",
       "523   8.129032       True           bus   11/11/2021 3:20   \n",
       "561   8.129032       True           bus   11/16/2021 0:19   \n",
       "562   6.720000       True  amazon_truck   11/16/2021 0:46   \n",
       "565  12.000000       True           bus   11/16/2021 2:28   \n",
       "567   7.522388       True           bus   11/16/2021 3:19   \n",
       "587   7.636364       True           bus   11/17/2021 1:59   \n",
       "590  14.400000       True           bus   11/17/2021 3:20   \n",
       "613  10.285714       True           bus   11/18/2021 2:25   \n",
       "614   9.692308       True           bus   11/18/2021 2:54   \n",
       "634   5.929412       True           bus   11/19/2021 1:53   \n",
       "635   8.842105       True           bus   11/19/2021 2:25   \n",
       "636  11.454545       True           bus   11/19/2021 2:57   \n",
       "701   4.846154       True           bus   11/24/2021 3:17   \n",
       "734   9.000000       True           bus    12/3/2021 1:26   \n",
       "735  10.500000       True           bus    12/3/2021 1:52   \n",
       "737   8.129032       True           bus    12/3/2021 2:52   \n",
       "769  10.285714       True           bus    12/7/2021 0:46   \n",
       "\n",
       "             start_filename            end_filename  hour  segment_hour  \n",
       "6    Bancroft_Vids_3816.mp4  Bancroft_Vids_3817.mp4  18.0            18  \n",
       "22   Bancroft_Vids_6085.mp4  Bancroft_Vids_6085.mp4  18.0            18  \n",
       "43   Bancroft_Vids_4170.mp4  Bancroft_Vids_4170.mp4  18.0            18  \n",
       "63   Bancroft_Vids_4808.mp4  Bancroft_Vids_4809.mp4  19.0            19  \n",
       "69   Bancroft_Vids_4964.mp4  Bancroft_Vids_4964.mp4  18.0            18  \n",
       "77   Bancroft_Vids_5035.mp4  Bancroft_Vids_5035.mp4  18.0            18  \n",
       "78   Bancroft_Vids_5042.mp4  Bancroft_Vids_5042.mp4  18.0            18  \n",
       "111  Bancroft_Vids_6547.mp4  Bancroft_Vids_6548.mp4  16.0            16  \n",
       "112  Bancroft_Vids_6562.mp4  Bancroft_Vids_6563.mp4  17.0            17  \n",
       "113  Bancroft_Vids_6576.mp4  Bancroft_Vids_6576.mp4  18.0            18  \n",
       "114  Bancroft_Vids_6583.mp4  Bancroft_Vids_6583.mp4  18.0            18  \n",
       "133  Bancroft_Vids_7098.mp4  Bancroft_Vids_7099.mp4  18.0            18  \n",
       "144  Bancroft_Vids_7349.mp4  Bancroft_Vids_7350.mp4  16.0            16  \n",
       "165  Bancroft_Vids_7724.mp4  Bancroft_Vids_7725.mp4  19.0            19  \n",
       "209   Bancroft_Vids_230.mp4   Bancroft_Vids_231.mp4  17.0            17  \n",
       "222   Bancroft_Vids_535.mp4   Bancroft_Vids_536.mp4  16.0            16  \n",
       "226   Bancroft_Vids_571.mp4   Bancroft_Vids_571.mp4  19.0            19  \n",
       "262  Bancroft_Vids_1310.mp4  Bancroft_Vids_1311.mp4  18.0            18  \n",
       "279  Bancroft_Vids_1786.mp4  Bancroft_Vids_1787.mp4  16.0            16  \n",
       "308  Bancroft_Vids_2389.mp4  Bancroft_Vids_2390.mp4  16.0            16  \n",
       "316  Bancroft_Vids_2606.mp4  Bancroft_Vids_2607.mp4  18.0            18  \n",
       "337  Bancroft_Vids_3327.mp4  Bancroft_Vids_3328.mp4  18.0            18  \n",
       "342  Bancroft_Vids_3400.mp4  Bancroft_Vids_3403.mp4  16.0            16  \n",
       "371  Bancroft_Vids_3797.mp4  Bancroft_Vids_3798.mp4  16.0            16  \n",
       "375  Bancroft_Vids_3821.mp4  Bancroft_Vids_3823.mp4  18.0            18  \n",
       "417  Bancroft_Vids_6059.mp4  Bancroft_Vids_6060.mp4  16.0            16  \n",
       "419  Bancroft_Vids_6072.mp4  Bancroft_Vids_6072.mp4  17.0            17  \n",
       "421  Bancroft_Vids_6090.mp4  Bancroft_Vids_6090.mp4  19.0            19  \n",
       "441  Bancroft_Vids_6241.mp4  Bancroft_Vids_6242.mp4  16.0            16  \n",
       "443  Bancroft_Vids_6256.mp4  Bancroft_Vids_6257.mp4  17.0            17  \n",
       "444  Bancroft_Vids_6267.mp4  Bancroft_Vids_6268.mp4  18.0            18  \n",
       "484  Bancroft_Vids_4175.mp4  Bancroft_Vids_4175.mp4  18.0            18  \n",
       "521  Bancroft_Vids_4456.mp4  Bancroft_Vids_4457.mp4  18.0            18  \n",
       "523  Bancroft_Vids_4470.mp4  Bancroft_Vids_4471.mp4  19.0            19  \n",
       "561  Bancroft_Vids_4765.mp4  Bancroft_Vids_4766.mp4  16.0            16  \n",
       "562  Bancroft_Vids_4771.mp4  Bancroft_Vids_4772.mp4  16.0            16  \n",
       "565  Bancroft_Vids_4796.mp4  Bancroft_Vids_4797.mp4  18.0            18  \n",
       "567  Bancroft_Vids_4807.mp4  Bancroft_Vids_4808.mp4  19.0            19  \n",
       "587  Bancroft_Vids_4957.mp4  Bancroft_Vids_4958.mp4  17.0            17  \n",
       "590  Bancroft_Vids_4973.mp4  Bancroft_Vids_4973.mp4  19.0            19  \n",
       "613  Bancroft_Vids_5034.mp4  Bancroft_Vids_5034.mp4  18.0            18  \n",
       "614  Bancroft_Vids_5041.mp4  Bancroft_Vids_5042.mp4  18.0            18  \n",
       "634  Bancroft_Vids_5323.mp4  Bancroft_Vids_5325.mp4  17.0            17  \n",
       "635  Bancroft_Vids_5330.mp4  Bancroft_Vids_5331.mp4  18.0            18  \n",
       "636  Bancroft_Vids_5337.mp4  Bancroft_Vids_5337.mp4  18.0            18  \n",
       "701  Bancroft_Vids_5842.mp4  Bancroft_Vids_5843.mp4  19.0            19  \n",
       "734  Bancroft_Vids_6561.mp4  Bancroft_Vids_6562.mp4  17.0            17  \n",
       "735  Bancroft_Vids_6568.mp4  Bancroft_Vids_6568.mp4  17.0            17  \n",
       "737  Bancroft_Vids_6582.mp4  Bancroft_Vids_6583.mp4  18.0            18  \n",
       "769  Bancroft_Vids_6832.mp4  Bancroft_Vids_6833.mp4  16.0            16  "
      ]
     },
     "execution_count": 62,
     "metadata": {},
     "output_type": "execute_result"
    }
   ],
   "source": [
    "#College AVE with det\n",
    "test = grouped[(grouped['hour'] > 15)]\n",
    "test.head(50)\n",
    "#grouped[(grouped['detection'] == False)  & (grouped['segment']=='College Ave') & (grouped['hour']>-1)]['speed'].mean()"
   ]
  },
  {
   "cell_type": "code",
   "execution_count": 63,
   "id": "a89ffff5",
   "metadata": {},
   "outputs": [
    {
     "data": {
      "text/plain": [
       "13.685346171617379"
      ]
     },
     "execution_count": 63,
     "metadata": {},
     "output_type": "execute_result"
    }
   ],
   "source": [
    "grouped[(grouped['detection'] == False)]['speed'].mean()"
   ]
  },
  {
   "cell_type": "code",
   "execution_count": 64,
   "id": "35da2125",
   "metadata": {},
   "outputs": [
    {
     "data": {
      "text/plain": [
       "12.724258510180736"
      ]
     },
     "execution_count": 64,
     "metadata": {},
     "output_type": "execute_result"
    }
   ],
   "source": [
    "grouped[(grouped['detection'] == True)]['speed'].mean()"
   ]
  },
  {
   "cell_type": "code",
   "execution_count": 69,
   "id": "8c4c3a67",
   "metadata": {},
   "outputs": [
    {
     "data": {
      "text/html": [
       "<div>\n",
       "<style scoped>\n",
       "    .dataframe tbody tr th:only-of-type {\n",
       "        vertical-align: middle;\n",
       "    }\n",
       "\n",
       "    .dataframe tbody tr th {\n",
       "        vertical-align: top;\n",
       "    }\n",
       "\n",
       "    .dataframe thead th {\n",
       "        text-align: right;\n",
       "    }\n",
       "</style>\n",
       "<table border=\"1\" class=\"dataframe\">\n",
       "  <thead>\n",
       "    <tr style=\"text-align: right;\">\n",
       "      <th></th>\n",
       "      <th></th>\n",
       "      <th>Unnamed: 0</th>\n",
       "      <th>speed</th>\n",
       "      <th>hour</th>\n",
       "      <th>segment_hour</th>\n",
       "    </tr>\n",
       "    <tr>\n",
       "      <th>segment</th>\n",
       "      <th>detection</th>\n",
       "      <th></th>\n",
       "      <th></th>\n",
       "      <th></th>\n",
       "      <th></th>\n",
       "    </tr>\n",
       "  </thead>\n",
       "  <tbody>\n",
       "    <tr>\n",
       "      <th rowspan=\"2\" valign=\"top\">Bus Stop</th>\n",
       "      <th>False</th>\n",
       "      <td>1498.590551</td>\n",
       "      <td>17.542287</td>\n",
       "      <td>NaN</td>\n",
       "      <td>12.555118</td>\n",
       "    </tr>\n",
       "    <tr>\n",
       "      <th>True</th>\n",
       "      <td>1278.617647</td>\n",
       "      <td>15.566048</td>\n",
       "      <td>10.676471</td>\n",
       "      <td>10.676471</td>\n",
       "    </tr>\n",
       "    <tr>\n",
       "      <th rowspan=\"2\" valign=\"top\">College Ave</th>\n",
       "      <th>False</th>\n",
       "      <td>1541.404444</td>\n",
       "      <td>12.031783</td>\n",
       "      <td>NaN</td>\n",
       "      <td>12.742222</td>\n",
       "    </tr>\n",
       "    <tr>\n",
       "      <th>True</th>\n",
       "      <td>1253.000000</td>\n",
       "      <td>10.905721</td>\n",
       "      <td>10.480000</td>\n",
       "      <td>10.480000</td>\n",
       "    </tr>\n",
       "    <tr>\n",
       "      <th rowspan=\"2\" valign=\"top\">Shattuck</th>\n",
       "      <th>False</th>\n",
       "      <td>1563.390625</td>\n",
       "      <td>14.751690</td>\n",
       "      <td>NaN</td>\n",
       "      <td>12.304688</td>\n",
       "    </tr>\n",
       "    <tr>\n",
       "      <th>True</th>\n",
       "      <td>1501.726415</td>\n",
       "      <td>14.649146</td>\n",
       "      <td>10.528302</td>\n",
       "      <td>10.528302</td>\n",
       "    </tr>\n",
       "  </tbody>\n",
       "</table>\n",
       "</div>"
      ],
      "text/plain": [
       "                        Unnamed: 0      speed       hour  segment_hour\n",
       "segment     detection                                                 \n",
       "Bus Stop    False      1498.590551  17.542287        NaN     12.555118\n",
       "            True       1278.617647  15.566048  10.676471     10.676471\n",
       "College Ave False      1541.404444  12.031783        NaN     12.742222\n",
       "            True       1253.000000  10.905721  10.480000     10.480000\n",
       "Shattuck    False      1563.390625  14.751690        NaN     12.304688\n",
       "            True       1501.726415  14.649146  10.528302     10.528302"
      ]
     },
     "execution_count": 69,
     "metadata": {},
     "output_type": "execute_result"
    },
    {
     "data": {
      "image/png": "[encoded data removed]",
      "text/plain": [
       "<Figure size 432x288 with 1 Axes>"
      ]
     },
     "metadata": {
      "needs_background": "light"
     },
     "output_type": "display_data"
    }
   ],
   "source": [
    "## we are looking to see if trucks are causing speed slowdowns so removing all bus detections\n",
    "no_bus = grouped[(grouped['obj_class'] != 'bus')]\n",
    "ax = no_bus.groupby(['segment', 'detection'])['speed'].mean().unstack().plot.bar()\n",
    "ax.set(xlabel=\"Segment Name\", ylabel=\"Speed (mph)\") \n",
    "ax.set_title(\"Average Speed With and Without Truck Detections on Bancroft Segments\")\n",
    "\n",
    "no_bus.groupby(['segment', 'detection']).mean()"
   ]
  },
  {
   "cell_type": "code",
   "execution_count": 67,
   "id": "fc6d094f",
   "metadata": {},
   "outputs": [
    {
     "data": {
      "text/plain": [
       "13.685346171617379"
      ]
     },
     "execution_count": 67,
     "metadata": {},
     "output_type": "execute_result"
    }
   ],
   "source": [
    "no_bus[(no_bus['detection'] == False)]['speed'].mean()"
   ]
  },
  {
   "cell_type": "code",
   "execution_count": 68,
   "id": "b906a727",
   "metadata": {},
   "outputs": [
    {
     "data": {
      "text/plain": [
       "12.426965315352682"
      ]
     },
     "execution_count": 68,
     "metadata": {},
     "output_type": "execute_result"
    }
   ],
   "source": [
    "no_bus[(no_bus['detection'] == True)]['speed'].mean()"
   ]
  },
  {
   "cell_type": "code",
   "execution_count": 33,
   "id": "6dc5df78",
   "metadata": {},
   "outputs": [
    {
     "data": {
      "text/plain": [
       "no object       254\n",
       "fedex_truck      22\n",
       "amazon_truck     17\n",
       "ups_truck        12\n",
       "Name: obj_class, dtype: int64"
      ]
     },
     "execution_count": 33,
     "metadata": {},
     "output_type": "execute_result"
    }
   ],
   "source": [
    "no_bus[(no_bus['segment']=='Bus Stop')]['obj_class'].value_counts()"
   ]
  },
  {
   "cell_type": "code",
   "execution_count": 26,
   "id": "6abd1dad",
   "metadata": {},
   "outputs": [
    {
     "data": {
      "text/plain": [
       "8.972642837039123"
      ]
     },
     "execution_count": 26,
     "metadata": {},
     "output_type": "execute_result"
    }
   ],
   "source": [
    "grouped[(grouped['detection'] == True)  & (grouped['segment']=='College Ave') & (grouped['segment_hour']>16) ]['speed'].mean()"
   ]
  },
  {
   "cell_type": "code",
   "execution_count": 27,
   "id": "f052bb6f",
   "metadata": {},
   "outputs": [
    {
     "data": {
      "text/plain": [
       "10.4010657078762"
      ]
     },
     "execution_count": 27,
     "metadata": {},
     "output_type": "execute_result"
    }
   ],
   "source": [
    "grouped[(grouped['detection'] == False)  & (grouped['segment']=='College Ave') & (grouped['segment_hour']>16) ]['speed'].mean()"
   ]
  },
  {
   "cell_type": "code",
   "execution_count": 28,
   "id": "2f3411df",
   "metadata": {},
   "outputs": [
    {
     "data": {
      "text/plain": [
       "12.995648141542413"
      ]
     },
     "execution_count": 28,
     "metadata": {},
     "output_type": "execute_result"
    }
   ],
   "source": [
    "grouped[(grouped['detection'] == True)  & (grouped['segment']=='Shattuck') & (grouped['segment_hour']>16) ]['speed'].mean()"
   ]
  },
  {
   "cell_type": "code",
   "execution_count": 29,
   "id": "21c1e345",
   "metadata": {},
   "outputs": [
    {
     "data": {
      "text/plain": [
       "14.368480067117096"
      ]
     },
     "execution_count": 29,
     "metadata": {},
     "output_type": "execute_result"
    }
   ],
   "source": [
    "grouped[(grouped['detection'] == False)  & (grouped['segment']=='Shattuck') & (grouped['segment_hour']>16) ]['speed'].mean()"
   ]
  },
  {
   "cell_type": "code",
   "execution_count": 30,
   "id": "e0e21f85",
   "metadata": {},
   "outputs": [
    {
     "data": {
      "text/plain": [
       "12.184189089973685"
      ]
     },
     "execution_count": 30,
     "metadata": {},
     "output_type": "execute_result"
    }
   ],
   "source": [
    "grouped[(grouped['detection'] == True)  & (grouped['segment']=='Bus Stop') & (grouped['segment_hour']>16) ]['speed'].mean()"
   ]
  },
  {
   "cell_type": "code",
   "execution_count": 31,
   "id": "9ce2bf00",
   "metadata": {},
   "outputs": [
    {
     "data": {
      "text/plain": [
       "14.368480067117096"
      ]
     },
     "execution_count": 31,
     "metadata": {},
     "output_type": "execute_result"
    }
   ],
   "source": [
    "grouped[(grouped['detection'] == False)  & (grouped['segment']=='Shattuck') & (grouped['segment_hour']>16) ]['speed'].mean()"
   ]
  },
  {
   "cell_type": "code",
   "execution_count": 37,
   "id": "86933c19",
   "metadata": {},
   "outputs": [
    {
     "data": {
      "text/plain": [
       "<AxesSubplot:ylabel='Frequency'>"
      ]
     },
     "execution_count": 37,
     "metadata": {},
     "output_type": "execute_result"
    },
    {
     "data": {
      "image/png": "[encoded data removed]",
      "text/plain": [
       "<Figure size 432x288 with 1 Axes>"
      ]
     },
     "metadata": {
      "needs_background": "light"
     },
     "output_type": "display_data"
    }
   ],
   "source": [
    "#no detections \n",
    "no_det_after_hrs_shattuck = grouped[(grouped['detection'] == False)  & (grouped['segment']=='Shattuck') & (grouped['segment_hour']>16) ]['speed']\n",
    "no_det_after_hrs_shattuck.plot.hist()"
   ]
  },
  {
   "cell_type": "code",
   "execution_count": 40,
   "id": "6ac61212",
   "metadata": {},
   "outputs": [
    {
     "data": {
      "text/plain": [
       "<AxesSubplot:ylabel='Frequency'>"
      ]
     },
     "execution_count": 40,
     "metadata": {},
     "output_type": "execute_result"
    },
    {
     "data": {
      "image/png": "[encoded data removed]",
      "text/plain": [
       "<Figure size 432x288 with 1 Axes>"
      ]
     },
     "metadata": {
      "needs_background": "light"
     },
     "output_type": "display_data"
    }
   ],
   "source": [
    "# detections \n",
    "det_after_hrs_shattuck = grouped[(grouped['detection'] == True)  & (grouped['segment']=='Shattuck') & (grouped['segment_hour']>16) ]['speed']\n",
    "det_after_hrs_shattuck.plot.hist()"
   ]
  },
  {
   "cell_type": "code",
   "execution_count": 41,
   "id": "5424f232",
   "metadata": {},
   "outputs": [
    {
     "data": {
      "text/plain": [
       "<AxesSubplot:ylabel='Frequency'>"
      ]
     },
     "execution_count": 41,
     "metadata": {},
     "output_type": "execute_result"
    },
    {
     "data": {
      "image/png": "[encoded data removed]",
      "text/plain": [
       "<Figure size 432x288 with 1 Axes>"
      ]
     },
     "metadata": {
      "needs_background": "light"
     },
     "output_type": "display_data"
    }
   ],
   "source": [
    "#College AVe no detections after hours\n",
    "# detections \n",
    "no_det_after_hrs_ca = grouped[(grouped['detection'] == False)  & (grouped['segment']=='College Ave') & (grouped['segment_hour']>16) ]['speed']\n",
    "no_det_after_hrs_ca.plot.hist()"
   ]
  },
  {
   "cell_type": "code",
   "execution_count": 42,
   "id": "711d48bc",
   "metadata": {},
   "outputs": [
    {
     "data": {
      "text/plain": [
       "<AxesSubplot:ylabel='Frequency'>"
      ]
     },
     "execution_count": 42,
     "metadata": {},
     "output_type": "execute_result"
    },
    {
     "data": {
      "image/png": "[encoded data removed]",
      "text/plain": [
       "<Figure size 432x288 with 1 Axes>"
      ]
     },
     "metadata": {
      "needs_background": "light"
     },
     "output_type": "display_data"
    }
   ],
   "source": [
    "#College AVe detections after hours\n",
    "# detections \n",
    "det_after_hrs_ca = grouped[(grouped['detection'] == True)  & (grouped['segment']=='College Ave') & (grouped['segment_hour']>16) ]['speed']\n",
    "det_after_hrs_ca.plot.hist()"
   ]
  },
  {
   "cell_type": "code",
   "execution_count": 85,
   "id": "f02689d5",
   "metadata": {},
   "outputs": [
    {
     "data": {
      "text/plain": [
       "17.531684373433283"
      ]
     },
     "execution_count": 85,
     "metadata": {},
     "output_type": "execute_result"
    }
   ],
   "source": [
    "grouped[(grouped['detection'] == True)  & (grouped['segment']=='Shattuck') & (grouped['segment_hour']<8) ]['speed'].mean()"
   ]
  },
  {
   "cell_type": "code",
   "execution_count": 84,
   "id": "ea24b8c3",
   "metadata": {},
   "outputs": [
    {
     "data": {
      "text/plain": [
       "21.441176624827378"
      ]
     },
     "execution_count": 84,
     "metadata": {},
     "output_type": "execute_result"
    }
   ],
   "source": [
    "grouped[(grouped['detection'] == False)  & (grouped['segment']=='Shattuck') & (grouped['segment_hour']<8) ]['speed'].mean()"
   ]
  },
  {
   "cell_type": "markdown",
   "id": "c1c19cb1",
   "metadata": {},
   "source": [
    "after 16th hour there is a visible increase in speed when there are no detections compared to when there are detections and early in the morning at 7-8am (on Shattuck segment) during busy hours of the day most slow downs are due to pedestrian traffic and bikes going right in front of the bus. There is some difference in speed, on the bus stop segment throughout the whole day in that the bus has a slower speed when there are truck detections when compared to its speed without any detetcions on that segment"
   ]
  },
  {
   "cell_type": "code",
   "execution_count": null,
   "id": "8a38381e",
   "metadata": {},
   "outputs": [],
   "source": []
  }
 ],
 "metadata": {
  "kernelspec": {
   "display_name": "Python 3",
   "language": "python",
   "name": "python3"
  },
  "language_info": {
   "codemirror_mode": {
    "name": "ipython",
    "version": 3
   },
   "file_extension": ".py",
   "mimetype": "text/x-python",
   "name": "python",
   "nbconvert_exporter": "python",
   "pygments_lexer": "ipython3",
   "version": "3.8.8"
  }
 },
 "nbformat": 4,
 "nbformat_minor": 5
}
